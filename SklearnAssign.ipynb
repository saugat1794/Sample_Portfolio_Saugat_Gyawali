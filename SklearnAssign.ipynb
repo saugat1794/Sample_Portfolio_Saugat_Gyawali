{
 "cells": [
  {
   "cell_type": "markdown",
   "id": "8d81302e",
   "metadata": {},
   "source": [
    "# Portfolio: ML with Sklearn\n",
    "##### Author: Saugat Gyawali\n",
    "##### Date: 10/31/2022"
   ]
  },
  {
   "cell_type": "markdown",
   "id": "b5985d90",
   "metadata": {},
   "source": [
    "##### 1. Read the auto data"
   ]
  },
  {
   "cell_type": "code",
   "execution_count": 1,
   "id": "f44279ea",
   "metadata": {},
   "outputs": [
    {
     "data": {
      "text/html": [
       "<div>\n",
       "<style scoped>\n",
       "    .dataframe tbody tr th:only-of-type {\n",
       "        vertical-align: middle;\n",
       "    }\n",
       "\n",
       "    .dataframe tbody tr th {\n",
       "        vertical-align: top;\n",
       "    }\n",
       "\n",
       "    .dataframe thead th {\n",
       "        text-align: right;\n",
       "    }\n",
       "</style>\n",
       "<table border=\"1\" class=\"dataframe\">\n",
       "  <thead>\n",
       "    <tr style=\"text-align: right;\">\n",
       "      <th></th>\n",
       "      <th>mpg</th>\n",
       "      <th>cylinders</th>\n",
       "      <th>displacement</th>\n",
       "      <th>horsepower</th>\n",
       "      <th>weight</th>\n",
       "      <th>acceleration</th>\n",
       "      <th>year</th>\n",
       "      <th>origin</th>\n",
       "      <th>name</th>\n",
       "    </tr>\n",
       "  </thead>\n",
       "  <tbody>\n",
       "    <tr>\n",
       "      <th>0</th>\n",
       "      <td>18.0</td>\n",
       "      <td>8</td>\n",
       "      <td>307.0</td>\n",
       "      <td>130</td>\n",
       "      <td>3504</td>\n",
       "      <td>12.0</td>\n",
       "      <td>70.0</td>\n",
       "      <td>1</td>\n",
       "      <td>chevrolet chevelle malibu</td>\n",
       "    </tr>\n",
       "    <tr>\n",
       "      <th>1</th>\n",
       "      <td>15.0</td>\n",
       "      <td>8</td>\n",
       "      <td>350.0</td>\n",
       "      <td>165</td>\n",
       "      <td>3693</td>\n",
       "      <td>11.5</td>\n",
       "      <td>70.0</td>\n",
       "      <td>1</td>\n",
       "      <td>buick skylark 320</td>\n",
       "    </tr>\n",
       "    <tr>\n",
       "      <th>2</th>\n",
       "      <td>18.0</td>\n",
       "      <td>8</td>\n",
       "      <td>318.0</td>\n",
       "      <td>150</td>\n",
       "      <td>3436</td>\n",
       "      <td>11.0</td>\n",
       "      <td>70.0</td>\n",
       "      <td>1</td>\n",
       "      <td>plymouth satellite</td>\n",
       "    </tr>\n",
       "    <tr>\n",
       "      <th>3</th>\n",
       "      <td>16.0</td>\n",
       "      <td>8</td>\n",
       "      <td>304.0</td>\n",
       "      <td>150</td>\n",
       "      <td>3433</td>\n",
       "      <td>12.0</td>\n",
       "      <td>70.0</td>\n",
       "      <td>1</td>\n",
       "      <td>amc rebel sst</td>\n",
       "    </tr>\n",
       "    <tr>\n",
       "      <th>4</th>\n",
       "      <td>17.0</td>\n",
       "      <td>8</td>\n",
       "      <td>302.0</td>\n",
       "      <td>140</td>\n",
       "      <td>3449</td>\n",
       "      <td>NaN</td>\n",
       "      <td>70.0</td>\n",
       "      <td>1</td>\n",
       "      <td>ford torino</td>\n",
       "    </tr>\n",
       "  </tbody>\n",
       "</table>\n",
       "</div>"
      ],
      "text/plain": [
       "    mpg  cylinders  displacement  horsepower  weight  acceleration  year  \\\n",
       "0  18.0          8         307.0         130    3504          12.0  70.0   \n",
       "1  15.0          8         350.0         165    3693          11.5  70.0   \n",
       "2  18.0          8         318.0         150    3436          11.0  70.0   \n",
       "3  16.0          8         304.0         150    3433          12.0  70.0   \n",
       "4  17.0          8         302.0         140    3449           NaN  70.0   \n",
       "\n",
       "   origin                       name  \n",
       "0       1  chevrolet chevelle malibu  \n",
       "1       1          buick skylark 320  \n",
       "2       1         plymouth satellite  \n",
       "3       1              amc rebel sst  \n",
       "4       1                ford torino  "
      ]
     },
     "execution_count": 1,
     "metadata": {},
     "output_type": "execute_result"
    }
   ],
   "source": [
    "import pandas as pd\n",
    "data = pd.read_csv(\"Auto.csv\")\n",
    "data.head()"
   ]
  },
  {
   "cell_type": "markdown",
   "id": "e31dd575",
   "metadata": {},
   "source": [
    "###### Dimension of dataframe"
   ]
  },
  {
   "cell_type": "code",
   "execution_count": 2,
   "id": "3541700f",
   "metadata": {},
   "outputs": [
    {
     "name": "stdout",
     "output_type": "stream",
     "text": [
      "Dimension:  (392, 9)\n"
     ]
    }
   ],
   "source": [
    "print('Dimension: ',data.shape)"
   ]
  },
  {
   "cell_type": "markdown",
   "id": "03a0031b",
   "metadata": {},
   "source": [
    "##### 2.Data Exploration with code"
   ]
  },
  {
   "cell_type": "code",
   "execution_count": 3,
   "id": "1f471e2c",
   "metadata": {},
   "outputs": [
    {
     "data": {
      "text/html": [
       "<div>\n",
       "<style scoped>\n",
       "    .dataframe tbody tr th:only-of-type {\n",
       "        vertical-align: middle;\n",
       "    }\n",
       "\n",
       "    .dataframe tbody tr th {\n",
       "        vertical-align: top;\n",
       "    }\n",
       "\n",
       "    .dataframe thead th {\n",
       "        text-align: right;\n",
       "    }\n",
       "</style>\n",
       "<table border=\"1\" class=\"dataframe\">\n",
       "  <thead>\n",
       "    <tr style=\"text-align: right;\">\n",
       "      <th></th>\n",
       "      <th>mpg</th>\n",
       "      <th>weight</th>\n",
       "      <th>year</th>\n",
       "    </tr>\n",
       "  </thead>\n",
       "  <tbody>\n",
       "    <tr>\n",
       "      <th>count</th>\n",
       "      <td>392.000000</td>\n",
       "      <td>392.000000</td>\n",
       "      <td>390.000000</td>\n",
       "    </tr>\n",
       "    <tr>\n",
       "      <th>mean</th>\n",
       "      <td>23.445918</td>\n",
       "      <td>2977.584184</td>\n",
       "      <td>76.010256</td>\n",
       "    </tr>\n",
       "    <tr>\n",
       "      <th>std</th>\n",
       "      <td>7.805007</td>\n",
       "      <td>849.402560</td>\n",
       "      <td>3.668093</td>\n",
       "    </tr>\n",
       "    <tr>\n",
       "      <th>min</th>\n",
       "      <td>9.000000</td>\n",
       "      <td>1613.000000</td>\n",
       "      <td>70.000000</td>\n",
       "    </tr>\n",
       "    <tr>\n",
       "      <th>25%</th>\n",
       "      <td>17.000000</td>\n",
       "      <td>2225.250000</td>\n",
       "      <td>73.000000</td>\n",
       "    </tr>\n",
       "    <tr>\n",
       "      <th>50%</th>\n",
       "      <td>22.750000</td>\n",
       "      <td>2803.500000</td>\n",
       "      <td>76.000000</td>\n",
       "    </tr>\n",
       "    <tr>\n",
       "      <th>75%</th>\n",
       "      <td>29.000000</td>\n",
       "      <td>3614.750000</td>\n",
       "      <td>79.000000</td>\n",
       "    </tr>\n",
       "    <tr>\n",
       "      <th>max</th>\n",
       "      <td>46.600000</td>\n",
       "      <td>5140.000000</td>\n",
       "      <td>82.000000</td>\n",
       "    </tr>\n",
       "  </tbody>\n",
       "</table>\n",
       "</div>"
      ],
      "text/plain": [
       "              mpg       weight        year\n",
       "count  392.000000   392.000000  390.000000\n",
       "mean    23.445918  2977.584184   76.010256\n",
       "std      7.805007   849.402560    3.668093\n",
       "min      9.000000  1613.000000   70.000000\n",
       "25%     17.000000  2225.250000   73.000000\n",
       "50%     22.750000  2803.500000   76.000000\n",
       "75%     29.000000  3614.750000   79.000000\n",
       "max     46.600000  5140.000000   82.000000"
      ]
     },
     "execution_count": 3,
     "metadata": {},
     "output_type": "execute_result"
    }
   ],
   "source": [
    "data[[\"mpg\",\"weight\",\"year\"]].describe()"
   ]
  },
  {
   "cell_type": "markdown",
   "id": "a49932f3",
   "metadata": {},
   "source": [
    "mpg ranges from 9 to 46.60 and average is 23.44, whereas weight ranges from 1613 to 5140 with average of 2977.58. Lastly, year ranges from 70 to 82 with average of 76. "
   ]
  },
  {
   "cell_type": "markdown",
   "id": "c1c655c0",
   "metadata": {},
   "source": [
    "##### 3. Explore data types"
   ]
  },
  {
   "cell_type": "code",
   "execution_count": 4,
   "id": "d4f2c7a8",
   "metadata": {},
   "outputs": [
    {
     "data": {
      "text/plain": [
       "mpg             float64\n",
       "cylinders         int64\n",
       "displacement    float64\n",
       "horsepower        int64\n",
       "weight            int64\n",
       "acceleration    float64\n",
       "year            float64\n",
       "origin            int64\n",
       "name             object\n",
       "dtype: object"
      ]
     },
     "execution_count": 4,
     "metadata": {},
     "output_type": "execute_result"
    }
   ],
   "source": [
    "data.dtypes"
   ]
  },
  {
   "cell_type": "code",
   "execution_count": 5,
   "id": "5efce7ce",
   "metadata": {},
   "outputs": [],
   "source": [
    "data['cylinders'] = data['cylinders'].astype('category')\n",
    "data['cylinders']=data['cylinders'].astype('category').cat.codes\n"
   ]
  },
  {
   "cell_type": "code",
   "execution_count": 6,
   "id": "c8a1364a",
   "metadata": {},
   "outputs": [],
   "source": [
    "data['origin'] = data['origin'].astype('category')"
   ]
  },
  {
   "cell_type": "code",
   "execution_count": 7,
   "id": "53797b0b",
   "metadata": {},
   "outputs": [
    {
     "data": {
      "text/plain": [
       "mpg              float64\n",
       "cylinders           int8\n",
       "displacement     float64\n",
       "horsepower         int64\n",
       "weight             int64\n",
       "acceleration     float64\n",
       "year             float64\n",
       "origin          category\n",
       "name              object\n",
       "dtype: object"
      ]
     },
     "execution_count": 7,
     "metadata": {},
     "output_type": "execute_result"
    }
   ],
   "source": [
    "data.dtypes"
   ]
  },
  {
   "cell_type": "markdown",
   "id": "d1b10db4",
   "metadata": {},
   "source": [
    "##### 4. Deal with NAs"
   ]
  },
  {
   "cell_type": "code",
   "execution_count": 8,
   "id": "ad290941",
   "metadata": {},
   "outputs": [
    {
     "data": {
      "text/plain": [
       "mpg             0\n",
       "cylinders       0\n",
       "displacement    0\n",
       "horsepower      0\n",
       "weight          0\n",
       "acceleration    1\n",
       "year            2\n",
       "origin          0\n",
       "name            0\n",
       "dtype: int64"
      ]
     },
     "execution_count": 8,
     "metadata": {},
     "output_type": "execute_result"
    }
   ],
   "source": [
    "data.isnull().sum()"
   ]
  },
  {
   "cell_type": "code",
   "execution_count": 9,
   "id": "efed52c6",
   "metadata": {},
   "outputs": [
    {
     "name": "stdout",
     "output_type": "stream",
     "text": [
      "New dimension (389, 9)\n"
     ]
    }
   ],
   "source": [
    "data = data.dropna()\n",
    "print('New dimension', data.shape)"
   ]
  },
  {
   "cell_type": "markdown",
   "id": "7db72747",
   "metadata": {},
   "source": [
    "##### 5. Modify columns"
   ]
  },
  {
   "cell_type": "code",
   "execution_count": 10,
   "id": "d7e8ffe8",
   "metadata": {},
   "outputs": [],
   "source": [
    "average = data['mpg'].mean()\n",
    "data.loc[data['mpg'] > average,'mpg_high']=1\n",
    "data.loc[data['mpg'] <= average,'mpg_high']=0"
   ]
  },
  {
   "cell_type": "code",
   "execution_count": 11,
   "id": "7fc19039",
   "metadata": {},
   "outputs": [],
   "source": [
    "data = data.drop(columns=['mpg','name'])"
   ]
  },
  {
   "cell_type": "code",
   "execution_count": 12,
   "id": "a121a3f0",
   "metadata": {},
   "outputs": [
    {
     "data": {
      "text/html": [
       "<div>\n",
       "<style scoped>\n",
       "    .dataframe tbody tr th:only-of-type {\n",
       "        vertical-align: middle;\n",
       "    }\n",
       "\n",
       "    .dataframe tbody tr th {\n",
       "        vertical-align: top;\n",
       "    }\n",
       "\n",
       "    .dataframe thead th {\n",
       "        text-align: right;\n",
       "    }\n",
       "</style>\n",
       "<table border=\"1\" class=\"dataframe\">\n",
       "  <thead>\n",
       "    <tr style=\"text-align: right;\">\n",
       "      <th></th>\n",
       "      <th>cylinders</th>\n",
       "      <th>displacement</th>\n",
       "      <th>horsepower</th>\n",
       "      <th>weight</th>\n",
       "      <th>acceleration</th>\n",
       "      <th>year</th>\n",
       "      <th>origin</th>\n",
       "      <th>mpg_high</th>\n",
       "    </tr>\n",
       "  </thead>\n",
       "  <tbody>\n",
       "    <tr>\n",
       "      <th>0</th>\n",
       "      <td>4</td>\n",
       "      <td>307.0</td>\n",
       "      <td>130</td>\n",
       "      <td>3504</td>\n",
       "      <td>12.0</td>\n",
       "      <td>70.0</td>\n",
       "      <td>1</td>\n",
       "      <td>0.0</td>\n",
       "    </tr>\n",
       "    <tr>\n",
       "      <th>1</th>\n",
       "      <td>4</td>\n",
       "      <td>350.0</td>\n",
       "      <td>165</td>\n",
       "      <td>3693</td>\n",
       "      <td>11.5</td>\n",
       "      <td>70.0</td>\n",
       "      <td>1</td>\n",
       "      <td>0.0</td>\n",
       "    </tr>\n",
       "    <tr>\n",
       "      <th>2</th>\n",
       "      <td>4</td>\n",
       "      <td>318.0</td>\n",
       "      <td>150</td>\n",
       "      <td>3436</td>\n",
       "      <td>11.0</td>\n",
       "      <td>70.0</td>\n",
       "      <td>1</td>\n",
       "      <td>0.0</td>\n",
       "    </tr>\n",
       "    <tr>\n",
       "      <th>3</th>\n",
       "      <td>4</td>\n",
       "      <td>304.0</td>\n",
       "      <td>150</td>\n",
       "      <td>3433</td>\n",
       "      <td>12.0</td>\n",
       "      <td>70.0</td>\n",
       "      <td>1</td>\n",
       "      <td>0.0</td>\n",
       "    </tr>\n",
       "    <tr>\n",
       "      <th>6</th>\n",
       "      <td>4</td>\n",
       "      <td>454.0</td>\n",
       "      <td>220</td>\n",
       "      <td>4354</td>\n",
       "      <td>9.0</td>\n",
       "      <td>70.0</td>\n",
       "      <td>1</td>\n",
       "      <td>0.0</td>\n",
       "    </tr>\n",
       "  </tbody>\n",
       "</table>\n",
       "</div>"
      ],
      "text/plain": [
       "   cylinders  displacement  horsepower  weight  acceleration  year origin  \\\n",
       "0          4         307.0         130    3504          12.0  70.0      1   \n",
       "1          4         350.0         165    3693          11.5  70.0      1   \n",
       "2          4         318.0         150    3436          11.0  70.0      1   \n",
       "3          4         304.0         150    3433          12.0  70.0      1   \n",
       "6          4         454.0         220    4354           9.0  70.0      1   \n",
       "\n",
       "   mpg_high  \n",
       "0       0.0  \n",
       "1       0.0  \n",
       "2       0.0  \n",
       "3       0.0  \n",
       "6       0.0  "
      ]
     },
     "execution_count": 12,
     "metadata": {},
     "output_type": "execute_result"
    }
   ],
   "source": [
    "data.head()"
   ]
  },
  {
   "cell_type": "markdown",
   "id": "65be7431",
   "metadata": {},
   "source": [
    "##### Data exploration with graphs"
   ]
  },
  {
   "cell_type": "code",
   "execution_count": 13,
   "id": "85923edf",
   "metadata": {},
   "outputs": [],
   "source": [
    "import seaborn as sns\n",
    "from matplotlib import pyplot as plt"
   ]
  },
  {
   "cell_type": "code",
   "execution_count": 14,
   "id": "08bb1da8",
   "metadata": {},
   "outputs": [
    {
     "data": {
      "text/plain": [
       "<seaborn.axisgrid.FacetGrid at 0x16649031280>"
      ]
     },
     "execution_count": 14,
     "metadata": {},
     "output_type": "execute_result"
    },
    {
     "data": {
      "image/png": "[encoded data removed]",
      "text/plain": [
       "<Figure size 500x500 with 1 Axes>"
      ]
     },
     "metadata": {},
     "output_type": "display_data"
    }
   ],
   "source": [
    "sns.catplot(x=\"mpg_high\",kind=\"count\", data=data)\n"
   ]
  },
  {
   "cell_type": "code",
   "execution_count": 15,
   "id": "53a767e4",
   "metadata": {},
   "outputs": [
    {
     "data": {
      "image/png": "[encoded data removed]",
      "text/plain": [
       "<Figure size 500x500 with 1 Axes>"
      ]
     },
     "metadata": {},
     "output_type": "display_data"
    }
   ],
   "source": [
    "g = sns.relplot(data = data, x=\"horsepower\", y=\"weight\")\n",
    "g.fig.suptitle('Horsepower vs Weight')\n",
    "plt.show()\n"
   ]
  },
  {
   "cell_type": "code",
   "execution_count": 16,
   "id": "736f2cb5",
   "metadata": {},
   "outputs": [
    {
     "data": {
      "image/png": "[encoded data removed]",
      "text/plain": [
       "<Figure size 640x480 with 1 Axes>"
      ]
     },
     "metadata": {},
     "output_type": "display_data"
    }
   ],
   "source": [
    "g = sns.boxplot(x=\"mpg_high\", y=\"weight\",data=data)\n",
    "g.set(title='Boxplot: mpg_high vs Weight')\n",
    "plt.show()"
   ]
  },
  {
   "cell_type": "markdown",
   "id": "411a097a",
   "metadata": {},
   "source": [
    "By analyzing the graphs, from the first catplot it is found that a mpg which is more than average is slightly lesser than a mpg which is less than average. It simply counts the number of 0's and 1's which has been categorized above.\n",
    "From the second relplot graph, it is found that horsepower and weight is directly proportional meaning when horsepower is increased, weight is also incresed.\n",
    "From the box plot, we found that a median weight of 0's(less than average) is almost 3500/ While minimum score is almorst 2100 and lower quartile is almost 3100. With almost 4200 as a upper quartile. For skewnesw, it is found to be normal distribution.\n",
    "For 1's, median weight of 1's(more than average) is found in 2200(approx.). It is found to be slightly right skewed. There are some outliers for 1's which is because it lies outside the range of "
   ]
  },
  {
   "cell_type": "markdown",
   "id": "3d217d29",
   "metadata": {},
   "source": [
    "##### Train/test split"
   ]
  },
  {
   "cell_type": "code",
   "execution_count": 17,
   "id": "16c68762",
   "metadata": {},
   "outputs": [],
   "source": [
    "from sklearn.model_selection import train_test_split\n"
   ]
  },
  {
   "cell_type": "code",
   "execution_count": 18,
   "id": "66c7518e",
   "metadata": {},
   "outputs": [],
   "source": [
    "X = data.iloc[:,0:7]"
   ]
  },
  {
   "cell_type": "code",
   "execution_count": 19,
   "id": "73d746c6",
   "metadata": {},
   "outputs": [],
   "source": [
    "Y = data.iloc[:,7]"
   ]
  },
  {
   "cell_type": "code",
   "execution_count": 20,
   "id": "46537c8a",
   "metadata": {},
   "outputs": [],
   "source": [
    "X_train,X_test,Y_train, Y_test = train_test_split(X,Y,test_size=0.2,random_state=1234)"
   ]
  },
  {
   "cell_type": "code",
   "execution_count": 21,
   "id": "d040c802",
   "metadata": {},
   "outputs": [
    {
     "name": "stdout",
     "output_type": "stream",
     "text": [
      "train size:  (311, 7)\n",
      "test size:  (78, 7)\n"
     ]
    }
   ],
   "source": [
    "print('train size: ', X_train.shape)\n",
    "print('test size: ', X_test.shape)"
   ]
  },
  {
   "cell_type": "markdown",
   "id": "e8a36b43",
   "metadata": {},
   "source": [
    "##### Logistic Regression"
   ]
  },
  {
   "cell_type": "code",
   "execution_count": 22,
   "id": "b16eb518",
   "metadata": {},
   "outputs": [],
   "source": [
    "from sklearn.linear_model import LogisticRegression"
   ]
  },
  {
   "cell_type": "code",
   "execution_count": 23,
   "id": "9bbb836a",
   "metadata": {},
   "outputs": [
    {
     "name": "stderr",
     "output_type": "stream",
     "text": [
      "E:\\Anaconda\\lib\\site-packages\\sklearn\\linear_model\\_logistic.py:814: ConvergenceWarning: lbfgs failed to converge (status=1):\n",
      "STOP: TOTAL NO. of ITERATIONS REACHED LIMIT.\n",
      "\n",
      "Increase the number of iterations (max_iter) or scale the data as shown in:\n",
      "    https://scikit-learn.org/stable/modules/preprocessing.html\n",
      "Please also refer to the documentation for alternative solver options:\n",
      "    https://scikit-learn.org/stable/modules/linear_model.html#logistic-regression\n",
      "  n_iter_i = _check_optimize_result(\n"
     ]
    },
    {
     "data": {
      "text/plain": [
       "0.9067524115755627"
      ]
     },
     "execution_count": 23,
     "metadata": {},
     "output_type": "execute_result"
    }
   ],
   "source": [
    "clf = LogisticRegression()\n",
    "clf.fit(X_train,Y_train)\n",
    "clf.score(X_train,Y_train)"
   ]
  },
  {
   "cell_type": "code",
   "execution_count": 24,
   "id": "d440dc4f",
   "metadata": {},
   "outputs": [],
   "source": [
    "pred = clf.predict(X_test)"
   ]
  },
  {
   "cell_type": "code",
   "execution_count": 25,
   "id": "343bc3ec",
   "metadata": {},
   "outputs": [
    {
     "name": "stdout",
     "output_type": "stream",
     "text": [
      "              precision    recall  f1-score   support\n",
      "\n",
      "         0.0       0.98      0.80      0.88        50\n",
      "         1.0       0.73      0.96      0.83        28\n",
      "\n",
      "    accuracy                           0.86        78\n",
      "   macro avg       0.85      0.88      0.85        78\n",
      "weighted avg       0.89      0.86      0.86        78\n",
      "\n"
     ]
    }
   ],
   "source": [
    "from  sklearn.metrics import classification_report\n",
    "\n",
    "print(classification_report(Y_test,pred))"
   ]
  },
  {
   "cell_type": "code",
   "execution_count": 26,
   "id": "900146ec",
   "metadata": {},
   "outputs": [
    {
     "data": {
      "text/plain": [
       "array([[40, 10],\n",
       "       [ 1, 27]], dtype=int64)"
      ]
     },
     "execution_count": 26,
     "metadata": {},
     "output_type": "execute_result"
    }
   ],
   "source": [
    "from sklearn.metrics import confusion_matrix\n",
    "\n",
    "confusion_matrix(Y_test, pred)"
   ]
  },
  {
   "cell_type": "markdown",
   "id": "575bcdff",
   "metadata": {},
   "source": [
    "##### Decision Tree"
   ]
  },
  {
   "cell_type": "code",
   "execution_count": 30,
   "id": "c81f2368",
   "metadata": {},
   "outputs": [
    {
     "data": {
      "text/plain": [
       "DecisionTreeClassifier()"
      ]
     },
     "execution_count": 30,
     "metadata": {},
     "output_type": "execute_result"
    }
   ],
   "source": [
    "from sklearn.tree import DecisionTreeClassifier\n",
    "from sklearn.metrics import accuracy_score\n",
    "\n",
    "clf = DecisionTreeClassifier()\n",
    "clf.fit(X_train,Y_train)"
   ]
  },
  {
   "cell_type": "code",
   "execution_count": 31,
   "id": "54039611",
   "metadata": {},
   "outputs": [],
   "source": [
    "pred = clf.predict(X_test)"
   ]
  },
  {
   "cell_type": "code",
   "execution_count": 32,
   "id": "52ada689",
   "metadata": {},
   "outputs": [
    {
     "name": "stdout",
     "output_type": "stream",
     "text": [
      "accuracy =  0.8846153846153846\n"
     ]
    }
   ],
   "source": [
    "print('accuracy = ', accuracy_score(Y_test,pred))"
   ]
  },
  {
   "cell_type": "code",
   "execution_count": 33,
   "id": "c30d3397",
   "metadata": {},
   "outputs": [
    {
     "name": "stdout",
     "output_type": "stream",
     "text": [
      "              precision    recall  f1-score   support\n",
      "\n",
      "         0.0       0.94      0.88      0.91        50\n",
      "         1.0       0.81      0.89      0.85        28\n",
      "\n",
      "    accuracy                           0.88        78\n",
      "   macro avg       0.87      0.89      0.88        78\n",
      "weighted avg       0.89      0.88      0.89        78\n",
      "\n"
     ]
    }
   ],
   "source": [
    "print(classification_report(Y_test,pred))"
   ]
  },
  {
   "cell_type": "code",
   "execution_count": 34,
   "id": "8086205a",
   "metadata": {},
   "outputs": [
    {
     "data": {
      "text/plain": [
       "array([[44,  6],\n",
       "       [ 3, 25]], dtype=int64)"
      ]
     },
     "execution_count": 34,
     "metadata": {},
     "output_type": "execute_result"
    }
   ],
   "source": [
    "confusion_matrix(Y_test,pred)"
   ]
  },
  {
   "cell_type": "code",
   "execution_count": 35,
   "id": "e7af9d11",
   "metadata": {},
   "outputs": [
    {
     "name": "stdout",
     "output_type": "stream",
     "text": [
      "Collecting package metadata (current_repodata.json): ...working... done\n",
      "Solving environment: ...working... done\n",
      "\n",
      "# All requested packages already installed.\n",
      "\n",
      "Retrieving notices: ...working... done\n",
      "\n",
      "Note: you may need to restart the kernel to use updated packages.\n"
     ]
    }
   ],
   "source": [
    "conda install python-graphviz"
   ]
  },
  {
   "cell_type": "code",
   "execution_count": 37,
   "id": "b86de711",
   "metadata": {},
   "outputs": [
    {
     "data": {
      "image/svg+xml": [
       "<?xml version=\"1.0\" encoding=\"UTF-8\" standalone=\"no\"?>\n",
       "<!DOCTYPE svg PUBLIC \"-//W3C//DTD SVG 1.1//EN\"\n",
       " \"http://www.w3.org/Graphics/SVG/1.1/DTD/svg11.dtd\">\n",
       "<!-- Generated by graphviz version 2.50.0 (0)\n",
       " -->\n",
       "<!-- Title: Tree Pages: 1 -->\n",
       "<svg width=\"1866pt\" height=\"893pt\"\n",
       " viewBox=\"0.00 0.00 1865.50 893.00\" xmlns=\"http://www.w3.org/2000/svg\" xmlns:xlink=\"http://www.w3.org/1999/xlink\">\n",
       "<g id=\"graph0\" class=\"graph\" transform=\"scale(1 1) rotate(0) translate(4 889)\">\n",
       "<title>Tree</title>\n",
       "<polygon fill=\"white\" stroke=\"transparent\" points=\"-4,4 -4,-889 1861.5,-889 1861.5,4 -4,4\"/>\n",
       "<!-- 0 -->\n",
       "<g id=\"node1\" class=\"node\">\n",
       "<title>0</title>\n",
       "<path fill=\"#f9fcfe\" stroke=\"black\" d=\"M1293.5,-885C1293.5,-885 1192.5,-885 1192.5,-885 1186.5,-885 1180.5,-879 1180.5,-873 1180.5,-873 1180.5,-829 1180.5,-829 1180.5,-823 1186.5,-817 1192.5,-817 1192.5,-817 1293.5,-817 1293.5,-817 1299.5,-817 1305.5,-823 1305.5,-829 1305.5,-829 1305.5,-873 1305.5,-873 1305.5,-879 1299.5,-885 1293.5,-885\"/>\n",
       "<text text-anchor=\"start\" x=\"1199\" y=\"-869.8\" font-family=\"Helvetica,sans-Serif\" font-size=\"14.00\">cylinders ≤ 2.5</text>\n",
       "<text text-anchor=\"start\" x=\"1215\" y=\"-854.8\" font-family=\"Helvetica,sans-Serif\" font-size=\"14.00\">gini = 0.5</text>\n",
       "<text text-anchor=\"start\" x=\"1198.5\" y=\"-839.8\" font-family=\"Helvetica,sans-Serif\" font-size=\"14.00\">samples = 311</text>\n",
       "<text text-anchor=\"start\" x=\"1188.5\" y=\"-824.8\" font-family=\"Helvetica,sans-Serif\" font-size=\"14.00\">value = [153, 158]</text>\n",
       "</g>\n",
       "<!-- 1 -->\n",
       "<g id=\"node2\" class=\"node\">\n",
       "<title>1</title>\n",
       "<path fill=\"#59ade9\" stroke=\"black\" d=\"M1191,-781C1191,-781 1079,-781 1079,-781 1073,-781 1067,-775 1067,-769 1067,-769 1067,-725 1067,-725 1067,-719 1073,-713 1079,-713 1079,-713 1191,-713 1191,-713 1197,-713 1203,-719 1203,-725 1203,-725 1203,-769 1203,-769 1203,-775 1197,-781 1191,-781\"/>\n",
       "<text text-anchor=\"start\" x=\"1075\" y=\"-765.8\" font-family=\"Helvetica,sans-Serif\" font-size=\"14.00\">horsepower ≤ 101.0</text>\n",
       "<text text-anchor=\"start\" x=\"1099.5\" y=\"-750.8\" font-family=\"Helvetica,sans-Serif\" font-size=\"14.00\">gini = 0.239</text>\n",
       "<text text-anchor=\"start\" x=\"1090\" y=\"-735.8\" font-family=\"Helvetica,sans-Serif\" font-size=\"14.00\">samples = 173</text>\n",
       "<text text-anchor=\"start\" x=\"1084.5\" y=\"-720.8\" font-family=\"Helvetica,sans-Serif\" font-size=\"14.00\">value = [24, 149]</text>\n",
       "</g>\n",
       "<!-- 0&#45;&gt;1 -->\n",
       "<g id=\"edge1\" class=\"edge\">\n",
       "<title>0&#45;&gt;1</title>\n",
       "<path fill=\"none\" stroke=\"black\" d=\"M1207.94,-816.88C1198.32,-807.8 1187.78,-797.85 1177.78,-788.4\"/>\n",
       "<polygon fill=\"black\" stroke=\"black\" points=\"1179.93,-785.62 1170.26,-781.3 1175.13,-790.71 1179.93,-785.62\"/>\n",
       "<text text-anchor=\"middle\" x=\"1170.97\" y=\"-802.59\" font-family=\"Helvetica,sans-Serif\" font-size=\"14.00\">True</text>\n",
       "</g>\n",
       "<!-- 38 -->\n",
       "<g id=\"node39\" class=\"node\">\n",
       "<title>38</title>\n",
       "<path fill=\"#e78a47\" stroke=\"black\" d=\"M1505,-781C1505,-781 1419,-781 1419,-781 1413,-781 1407,-775 1407,-769 1407,-769 1407,-725 1407,-725 1407,-719 1413,-713 1419,-713 1419,-713 1505,-713 1505,-713 1511,-713 1517,-719 1517,-725 1517,-725 1517,-769 1517,-769 1517,-775 1511,-781 1505,-781\"/>\n",
       "<text text-anchor=\"start\" x=\"1428\" y=\"-765.8\" font-family=\"Helvetica,sans-Serif\" font-size=\"14.00\">year ≤ 79.5</text>\n",
       "<text text-anchor=\"start\" x=\"1426.5\" y=\"-750.8\" font-family=\"Helvetica,sans-Serif\" font-size=\"14.00\">gini = 0.122</text>\n",
       "<text text-anchor=\"start\" x=\"1417\" y=\"-735.8\" font-family=\"Helvetica,sans-Serif\" font-size=\"14.00\">samples = 138</text>\n",
       "<text text-anchor=\"start\" x=\"1415\" y=\"-720.8\" font-family=\"Helvetica,sans-Serif\" font-size=\"14.00\">value = [129, 9]</text>\n",
       "</g>\n",
       "<!-- 0&#45;&gt;38 -->\n",
       "<g id=\"edge38\" class=\"edge\">\n",
       "<title>0&#45;&gt;38</title>\n",
       "<path fill=\"none\" stroke=\"black\" d=\"M1305.76,-820.77C1334.5,-807.38 1368.53,-791.54 1397.48,-778.05\"/>\n",
       "<polygon fill=\"black\" stroke=\"black\" points=\"1399.1,-781.16 1406.69,-773.76 1396.15,-774.81 1399.1,-781.16\"/>\n",
       "<text text-anchor=\"middle\" x=\"1398.13\" y=\"-793.55\" font-family=\"Helvetica,sans-Serif\" font-size=\"14.00\">False</text>\n",
       "</g>\n",
       "<!-- 2 -->\n",
       "<g id=\"node3\" class=\"node\">\n",
       "<title>2</title>\n",
       "<path fill=\"#4fa8e8\" stroke=\"black\" d=\"M832.5,-677C832.5,-677 739.5,-677 739.5,-677 733.5,-677 727.5,-671 727.5,-665 727.5,-665 727.5,-621 727.5,-621 727.5,-615 733.5,-609 739.5,-609 739.5,-609 832.5,-609 832.5,-609 838.5,-609 844.5,-615 844.5,-621 844.5,-621 844.5,-665 844.5,-665 844.5,-671 838.5,-677 832.5,-677\"/>\n",
       "<text text-anchor=\"start\" x=\"752\" y=\"-661.8\" font-family=\"Helvetica,sans-Serif\" font-size=\"14.00\">year ≤ 75.5</text>\n",
       "<text text-anchor=\"start\" x=\"750.5\" y=\"-646.8\" font-family=\"Helvetica,sans-Serif\" font-size=\"14.00\">gini = 0.179</text>\n",
       "<text text-anchor=\"start\" x=\"741\" y=\"-631.8\" font-family=\"Helvetica,sans-Serif\" font-size=\"14.00\">samples = 161</text>\n",
       "<text text-anchor=\"start\" x=\"735.5\" y=\"-616.8\" font-family=\"Helvetica,sans-Serif\" font-size=\"14.00\">value = [16, 145]</text>\n",
       "</g>\n",
       "<!-- 1&#45;&gt;2 -->\n",
       "<g id=\"edge2\" class=\"edge\">\n",
       "<title>1&#45;&gt;2</title>\n",
       "<path fill=\"none\" stroke=\"black\" d=\"M1066.88,-726.09C1005.5,-708.15 915.71,-681.91 854.28,-663.96\"/>\n",
       "<polygon fill=\"black\" stroke=\"black\" points=\"855.25,-660.59 844.67,-661.15 853.29,-667.31 855.25,-660.59\"/>\n",
       "</g>\n",
       "<!-- 31 -->\n",
       "<g id=\"node32\" class=\"node\">\n",
       "<title>31</title>\n",
       "<path fill=\"#f2c09c\" stroke=\"black\" d=\"M1192,-677C1192,-677 1078,-677 1078,-677 1072,-677 1066,-671 1066,-665 1066,-665 1066,-621 1066,-621 1066,-615 1072,-609 1078,-609 1078,-609 1192,-609 1192,-609 1198,-609 1204,-615 1204,-621 1204,-621 1204,-665 1204,-665 1204,-671 1198,-677 1192,-677\"/>\n",
       "<text text-anchor=\"start\" x=\"1074\" y=\"-661.8\" font-family=\"Helvetica,sans-Serif\" font-size=\"14.00\">acceleration ≤ 14.45</text>\n",
       "<text text-anchor=\"start\" x=\"1099.5\" y=\"-646.8\" font-family=\"Helvetica,sans-Serif\" font-size=\"14.00\">gini = 0.444</text>\n",
       "<text text-anchor=\"start\" x=\"1094\" y=\"-631.8\" font-family=\"Helvetica,sans-Serif\" font-size=\"14.00\">samples = 12</text>\n",
       "<text text-anchor=\"start\" x=\"1095.5\" y=\"-616.8\" font-family=\"Helvetica,sans-Serif\" font-size=\"14.00\">value = [8, 4]</text>\n",
       "</g>\n",
       "<!-- 1&#45;&gt;31 -->\n",
       "<g id=\"edge31\" class=\"edge\">\n",
       "<title>1&#45;&gt;31</title>\n",
       "<path fill=\"none\" stroke=\"black\" d=\"M1135,-712.88C1135,-704.78 1135,-695.98 1135,-687.47\"/>\n",
       "<polygon fill=\"black\" stroke=\"black\" points=\"1138.5,-687.3 1135,-677.3 1131.5,-687.3 1138.5,-687.3\"/>\n",
       "</g>\n",
       "<!-- 3 -->\n",
       "<g id=\"node4\" class=\"node\">\n",
       "<title>3</title>\n",
       "<path fill=\"#77bbed\" stroke=\"black\" d=\"M488.5,-573C488.5,-573 367.5,-573 367.5,-573 361.5,-573 355.5,-567 355.5,-561 355.5,-561 355.5,-517 355.5,-517 355.5,-511 361.5,-505 367.5,-505 367.5,-505 488.5,-505 488.5,-505 494.5,-505 500.5,-511 500.5,-517 500.5,-517 500.5,-561 500.5,-561 500.5,-567 494.5,-573 488.5,-573\"/>\n",
       "<text text-anchor=\"start\" x=\"363.5\" y=\"-557.8\" font-family=\"Helvetica,sans-Serif\" font-size=\"14.00\">displacement ≤ 119.5</text>\n",
       "<text text-anchor=\"start\" x=\"392.5\" y=\"-542.8\" font-family=\"Helvetica,sans-Serif\" font-size=\"14.00\">gini = 0.362</text>\n",
       "<text text-anchor=\"start\" x=\"387\" y=\"-527.8\" font-family=\"Helvetica,sans-Serif\" font-size=\"14.00\">samples = 59</text>\n",
       "<text text-anchor=\"start\" x=\"381\" y=\"-512.8\" font-family=\"Helvetica,sans-Serif\" font-size=\"14.00\">value = [14, 45]</text>\n",
       "</g>\n",
       "<!-- 2&#45;&gt;3 -->\n",
       "<g id=\"edge3\" class=\"edge\">\n",
       "<title>2&#45;&gt;3</title>\n",
       "<path fill=\"none\" stroke=\"black\" d=\"M727.28,-625.27C668.32,-608.47 576.95,-582.44 510.67,-563.55\"/>\n",
       "<polygon fill=\"black\" stroke=\"black\" points=\"511.25,-560.08 500.67,-560.71 509.33,-566.81 511.25,-560.08\"/>\n",
       "</g>\n",
       "<!-- 22 -->\n",
       "<g id=\"node23\" class=\"node\">\n",
       "<title>22</title>\n",
       "<path fill=\"#3d9fe6\" stroke=\"black\" d=\"M830,-573C830,-573 742,-573 742,-573 736,-573 730,-567 730,-561 730,-561 730,-517 730,-517 730,-511 736,-505 742,-505 742,-505 830,-505 830,-505 836,-505 842,-511 842,-517 842,-517 842,-561 842,-561 842,-567 836,-573 830,-573\"/>\n",
       "<text text-anchor=\"start\" x=\"738\" y=\"-557.8\" font-family=\"Helvetica,sans-Serif\" font-size=\"14.00\">weight ≤ 3250.0</text>\n",
       "<text text-anchor=\"start\" x=\"750.5\" y=\"-542.8\" font-family=\"Helvetica,sans-Serif\" font-size=\"14.00\">gini = 0.038</text>\n",
       "<text text-anchor=\"start\" x=\"741\" y=\"-527.8\" font-family=\"Helvetica,sans-Serif\" font-size=\"14.00\">samples = 102</text>\n",
       "<text text-anchor=\"start\" x=\"739\" y=\"-512.8\" font-family=\"Helvetica,sans-Serif\" font-size=\"14.00\">value = [2, 100]</text>\n",
       "</g>\n",
       "<!-- 2&#45;&gt;22 -->\n",
       "<g id=\"edge22\" class=\"edge\">\n",
       "<title>2&#45;&gt;22</title>\n",
       "<path fill=\"none\" stroke=\"black\" d=\"M786,-608.88C786,-600.78 786,-591.98 786,-583.47\"/>\n",
       "<polygon fill=\"black\" stroke=\"black\" points=\"789.5,-583.3 786,-573.3 782.5,-583.3 789.5,-583.3\"/>\n",
       "</g>\n",
       "<!-- 4 -->\n",
       "<g id=\"node5\" class=\"node\">\n",
       "<title>4</title>\n",
       "<path fill=\"#4ca6e7\" stroke=\"black\" d=\"M287,-469C287,-469 207,-469 207,-469 201,-469 195,-463 195,-457 195,-457 195,-413 195,-413 195,-407 201,-401 207,-401 207,-401 287,-401 287,-401 293,-401 299,-407 299,-413 299,-413 299,-457 299,-457 299,-463 293,-469 287,-469\"/>\n",
       "<text text-anchor=\"start\" x=\"203\" y=\"-453.8\" font-family=\"Helvetica,sans-Serif\" font-size=\"14.00\">cylinders ≤ 0.5</text>\n",
       "<text text-anchor=\"start\" x=\"211.5\" y=\"-438.8\" font-family=\"Helvetica,sans-Serif\" font-size=\"14.00\">gini = 0.159</text>\n",
       "<text text-anchor=\"start\" x=\"206\" y=\"-423.8\" font-family=\"Helvetica,sans-Serif\" font-size=\"14.00\">samples = 46</text>\n",
       "<text text-anchor=\"start\" x=\"204\" y=\"-408.8\" font-family=\"Helvetica,sans-Serif\" font-size=\"14.00\">value = [4, 42]</text>\n",
       "</g>\n",
       "<!-- 3&#45;&gt;4 -->\n",
       "<g id=\"edge4\" class=\"edge\">\n",
       "<title>3&#45;&gt;4</title>\n",
       "<path fill=\"none\" stroke=\"black\" d=\"M369.23,-504.88C349.63,-493.84 327.75,-481.51 307.98,-470.37\"/>\n",
       "<polygon fill=\"black\" stroke=\"black\" points=\"309.5,-467.2 299.07,-465.34 306.06,-473.3 309.5,-467.2\"/>\n",
       "</g>\n",
       "<!-- 13 -->\n",
       "<g id=\"node14\" class=\"node\">\n",
       "<title>13</title>\n",
       "<path fill=\"#eda774\" stroke=\"black\" d=\"M472,-469C472,-469 384,-469 384,-469 378,-469 372,-463 372,-457 372,-457 372,-413 372,-413 372,-407 378,-401 384,-401 384,-401 472,-401 472,-401 478,-401 484,-407 484,-413 484,-413 484,-457 484,-457 484,-463 478,-469 472,-469\"/>\n",
       "<text text-anchor=\"start\" x=\"380\" y=\"-453.8\" font-family=\"Helvetica,sans-Serif\" font-size=\"14.00\">weight ≤ 2567.0</text>\n",
       "<text text-anchor=\"start\" x=\"392.5\" y=\"-438.8\" font-family=\"Helvetica,sans-Serif\" font-size=\"14.00\">gini = 0.355</text>\n",
       "<text text-anchor=\"start\" x=\"387\" y=\"-423.8\" font-family=\"Helvetica,sans-Serif\" font-size=\"14.00\">samples = 13</text>\n",
       "<text text-anchor=\"start\" x=\"385\" y=\"-408.8\" font-family=\"Helvetica,sans-Serif\" font-size=\"14.00\">value = [10, 3]</text>\n",
       "</g>\n",
       "<!-- 3&#45;&gt;13 -->\n",
       "<g id=\"edge13\" class=\"edge\">\n",
       "<title>3&#45;&gt;13</title>\n",
       "<path fill=\"none\" stroke=\"black\" d=\"M428,-504.88C428,-496.78 428,-487.98 428,-479.47\"/>\n",
       "<polygon fill=\"black\" stroke=\"black\" points=\"431.5,-479.3 428,-469.3 424.5,-479.3 431.5,-479.3\"/>\n",
       "</g>\n",
       "<!-- 5 -->\n",
       "<g id=\"node6\" class=\"node\">\n",
       "<title>5</title>\n",
       "<path fill=\"#e58139\" stroke=\"black\" d=\"M160.5,-357.5C160.5,-357.5 89.5,-357.5 89.5,-357.5 83.5,-357.5 77.5,-351.5 77.5,-345.5 77.5,-345.5 77.5,-316.5 77.5,-316.5 77.5,-310.5 83.5,-304.5 89.5,-304.5 89.5,-304.5 160.5,-304.5 160.5,-304.5 166.5,-304.5 172.5,-310.5 172.5,-316.5 172.5,-316.5 172.5,-345.5 172.5,-345.5 172.5,-351.5 166.5,-357.5 160.5,-357.5\"/>\n",
       "<text text-anchor=\"start\" x=\"97\" y=\"-342.3\" font-family=\"Helvetica,sans-Serif\" font-size=\"14.00\">gini = 0.0</text>\n",
       "<text text-anchor=\"start\" x=\"87.5\" y=\"-327.3\" font-family=\"Helvetica,sans-Serif\" font-size=\"14.00\">samples = 2</text>\n",
       "<text text-anchor=\"start\" x=\"85.5\" y=\"-312.3\" font-family=\"Helvetica,sans-Serif\" font-size=\"14.00\">value = [2, 0]</text>\n",
       "</g>\n",
       "<!-- 4&#45;&gt;5 -->\n",
       "<g id=\"edge5\" class=\"edge\">\n",
       "<title>4&#45;&gt;5</title>\n",
       "<path fill=\"none\" stroke=\"black\" d=\"M207.39,-400.88C193.31,-389.12 177.5,-375.89 163.52,-364.2\"/>\n",
       "<polygon fill=\"black\" stroke=\"black\" points=\"165.44,-361.25 155.52,-357.52 160.95,-366.62 165.44,-361.25\"/>\n",
       "</g>\n",
       "<!-- 6 -->\n",
       "<g id=\"node7\" class=\"node\">\n",
       "<title>6</title>\n",
       "<path fill=\"#42a2e6\" stroke=\"black\" d=\"M291,-365C291,-365 203,-365 203,-365 197,-365 191,-359 191,-353 191,-353 191,-309 191,-309 191,-303 197,-297 203,-297 203,-297 291,-297 291,-297 297,-297 303,-303 303,-309 303,-309 303,-353 303,-353 303,-359 297,-365 291,-365\"/>\n",
       "<text text-anchor=\"start\" x=\"199\" y=\"-349.8\" font-family=\"Helvetica,sans-Serif\" font-size=\"14.00\">weight ≤ 2683.0</text>\n",
       "<text text-anchor=\"start\" x=\"211.5\" y=\"-334.8\" font-family=\"Helvetica,sans-Serif\" font-size=\"14.00\">gini = 0.087</text>\n",
       "<text text-anchor=\"start\" x=\"206\" y=\"-319.8\" font-family=\"Helvetica,sans-Serif\" font-size=\"14.00\">samples = 44</text>\n",
       "<text text-anchor=\"start\" x=\"204\" y=\"-304.8\" font-family=\"Helvetica,sans-Serif\" font-size=\"14.00\">value = [2, 42]</text>\n",
       "</g>\n",
       "<!-- 4&#45;&gt;6 -->\n",
       "<g id=\"edge6\" class=\"edge\">\n",
       "<title>4&#45;&gt;6</title>\n",
       "<path fill=\"none\" stroke=\"black\" d=\"M247,-400.88C247,-392.78 247,-383.98 247,-375.47\"/>\n",
       "<polygon fill=\"black\" stroke=\"black\" points=\"250.5,-375.3 247,-365.3 243.5,-375.3 250.5,-375.3\"/>\n",
       "</g>\n",
       "<!-- 7 -->\n",
       "<g id=\"node8\" class=\"node\">\n",
       "<title>7</title>\n",
       "<path fill=\"#3e9fe6\" stroke=\"black\" d=\"M169,-261C169,-261 81,-261 81,-261 75,-261 69,-255 69,-249 69,-249 69,-205 69,-205 69,-199 75,-193 81,-193 81,-193 169,-193 169,-193 175,-193 181,-199 181,-205 181,-205 181,-249 181,-249 181,-255 175,-261 169,-261\"/>\n",
       "<text text-anchor=\"start\" x=\"77\" y=\"-245.8\" font-family=\"Helvetica,sans-Serif\" font-size=\"14.00\">weight ≤ 2377.0</text>\n",
       "<text text-anchor=\"start\" x=\"89.5\" y=\"-230.8\" font-family=\"Helvetica,sans-Serif\" font-size=\"14.00\">gini = 0.045</text>\n",
       "<text text-anchor=\"start\" x=\"84\" y=\"-215.8\" font-family=\"Helvetica,sans-Serif\" font-size=\"14.00\">samples = 43</text>\n",
       "<text text-anchor=\"start\" x=\"82\" y=\"-200.8\" font-family=\"Helvetica,sans-Serif\" font-size=\"14.00\">value = [1, 42]</text>\n",
       "</g>\n",
       "<!-- 6&#45;&gt;7 -->\n",
       "<g id=\"edge7\" class=\"edge\">\n",
       "<title>6&#45;&gt;7</title>\n",
       "<path fill=\"none\" stroke=\"black\" d=\"M207.39,-296.88C196.31,-287.62 184.15,-277.45 172.66,-267.85\"/>\n",
       "<polygon fill=\"black\" stroke=\"black\" points=\"174.75,-265.03 164.83,-261.3 170.26,-270.4 174.75,-265.03\"/>\n",
       "</g>\n",
       "<!-- 12 -->\n",
       "<g id=\"node13\" class=\"node\">\n",
       "<title>12</title>\n",
       "<path fill=\"#e58139\" stroke=\"black\" d=\"M282.5,-253.5C282.5,-253.5 211.5,-253.5 211.5,-253.5 205.5,-253.5 199.5,-247.5 199.5,-241.5 199.5,-241.5 199.5,-212.5 199.5,-212.5 199.5,-206.5 205.5,-200.5 211.5,-200.5 211.5,-200.5 282.5,-200.5 282.5,-200.5 288.5,-200.5 294.5,-206.5 294.5,-212.5 294.5,-212.5 294.5,-241.5 294.5,-241.5 294.5,-247.5 288.5,-253.5 282.5,-253.5\"/>\n",
       "<text text-anchor=\"start\" x=\"219\" y=\"-238.3\" font-family=\"Helvetica,sans-Serif\" font-size=\"14.00\">gini = 0.0</text>\n",
       "<text text-anchor=\"start\" x=\"209.5\" y=\"-223.3\" font-family=\"Helvetica,sans-Serif\" font-size=\"14.00\">samples = 1</text>\n",
       "<text text-anchor=\"start\" x=\"207.5\" y=\"-208.3\" font-family=\"Helvetica,sans-Serif\" font-size=\"14.00\">value = [1, 0]</text>\n",
       "</g>\n",
       "<!-- 6&#45;&gt;12 -->\n",
       "<g id=\"edge12\" class=\"edge\">\n",
       "<title>6&#45;&gt;12</title>\n",
       "<path fill=\"none\" stroke=\"black\" d=\"M247,-296.88C247,-286.33 247,-274.6 247,-263.85\"/>\n",
       "<polygon fill=\"black\" stroke=\"black\" points=\"250.5,-263.52 247,-253.52 243.5,-263.52 250.5,-263.52\"/>\n",
       "</g>\n",
       "<!-- 8 -->\n",
       "<g id=\"node9\" class=\"node\">\n",
       "<title>8</title>\n",
       "<path fill=\"#399de5\" stroke=\"black\" d=\"M90,-149.5C90,-149.5 12,-149.5 12,-149.5 6,-149.5 0,-143.5 0,-137.5 0,-137.5 0,-108.5 0,-108.5 0,-102.5 6,-96.5 12,-96.5 12,-96.5 90,-96.5 90,-96.5 96,-96.5 102,-102.5 102,-108.5 102,-108.5 102,-137.5 102,-137.5 102,-143.5 96,-149.5 90,-149.5\"/>\n",
       "<text text-anchor=\"start\" x=\"23\" y=\"-134.3\" font-family=\"Helvetica,sans-Serif\" font-size=\"14.00\">gini = 0.0</text>\n",
       "<text text-anchor=\"start\" x=\"10\" y=\"-119.3\" font-family=\"Helvetica,sans-Serif\" font-size=\"14.00\">samples = 38</text>\n",
       "<text text-anchor=\"start\" x=\"8\" y=\"-104.3\" font-family=\"Helvetica,sans-Serif\" font-size=\"14.00\">value = [0, 38]</text>\n",
       "</g>\n",
       "<!-- 7&#45;&gt;8 -->\n",
       "<g id=\"edge8\" class=\"edge\">\n",
       "<title>7&#45;&gt;8</title>\n",
       "<path fill=\"none\" stroke=\"black\" d=\"M100.97,-192.88C92.84,-181.67 83.74,-169.13 75.56,-157.85\"/>\n",
       "<polygon fill=\"black\" stroke=\"black\" points=\"78.22,-155.56 69.51,-149.52 72.55,-159.67 78.22,-155.56\"/>\n",
       "</g>\n",
       "<!-- 9 -->\n",
       "<g id=\"node10\" class=\"node\">\n",
       "<title>9</title>\n",
       "<path fill=\"#6ab6ec\" stroke=\"black\" d=\"M220,-157C220,-157 132,-157 132,-157 126,-157 120,-151 120,-145 120,-145 120,-101 120,-101 120,-95 126,-89 132,-89 132,-89 220,-89 220,-89 226,-89 232,-95 232,-101 232,-101 232,-145 232,-145 232,-151 226,-157 220,-157\"/>\n",
       "<text text-anchor=\"start\" x=\"128\" y=\"-141.8\" font-family=\"Helvetica,sans-Serif\" font-size=\"14.00\">weight ≤ 2385.0</text>\n",
       "<text text-anchor=\"start\" x=\"144\" y=\"-126.8\" font-family=\"Helvetica,sans-Serif\" font-size=\"14.00\">gini = 0.32</text>\n",
       "<text text-anchor=\"start\" x=\"138.5\" y=\"-111.8\" font-family=\"Helvetica,sans-Serif\" font-size=\"14.00\">samples = 5</text>\n",
       "<text text-anchor=\"start\" x=\"136.5\" y=\"-96.8\" font-family=\"Helvetica,sans-Serif\" font-size=\"14.00\">value = [1, 4]</text>\n",
       "</g>\n",
       "<!-- 7&#45;&gt;9 -->\n",
       "<g id=\"edge9\" class=\"edge\">\n",
       "<title>7&#45;&gt;9</title>\n",
       "<path fill=\"none\" stroke=\"black\" d=\"M141.56,-192.88C145.79,-184.42 150.4,-175.21 154.82,-166.35\"/>\n",
       "<polygon fill=\"black\" stroke=\"black\" points=\"158.01,-167.81 159.35,-157.3 151.75,-164.68 158.01,-167.81\"/>\n",
       "</g>\n",
       "<!-- 10 -->\n",
       "<g id=\"node11\" class=\"node\">\n",
       "<title>10</title>\n",
       "<path fill=\"#e58139\" stroke=\"black\" d=\"M102.5,-53C102.5,-53 31.5,-53 31.5,-53 25.5,-53 19.5,-47 19.5,-41 19.5,-41 19.5,-12 19.5,-12 19.5,-6 25.5,0 31.5,0 31.5,0 102.5,0 102.5,0 108.5,0 114.5,-6 114.5,-12 114.5,-12 114.5,-41 114.5,-41 114.5,-47 108.5,-53 102.5,-53\"/>\n",
       "<text text-anchor=\"start\" x=\"39\" y=\"-37.8\" font-family=\"Helvetica,sans-Serif\" font-size=\"14.00\">gini = 0.0</text>\n",
       "<text text-anchor=\"start\" x=\"29.5\" y=\"-22.8\" font-family=\"Helvetica,sans-Serif\" font-size=\"14.00\">samples = 1</text>\n",
       "<text text-anchor=\"start\" x=\"27.5\" y=\"-7.8\" font-family=\"Helvetica,sans-Serif\" font-size=\"14.00\">value = [1, 0]</text>\n",
       "</g>\n",
       "<!-- 9&#45;&gt;10 -->\n",
       "<g id=\"edge10\" class=\"edge\">\n",
       "<title>9&#45;&gt;10</title>\n",
       "<path fill=\"none\" stroke=\"black\" d=\"M137.88,-88.95C127.01,-79.53 115.18,-69.27 104.36,-59.89\"/>\n",
       "<polygon fill=\"black\" stroke=\"black\" points=\"106.53,-57.14 96.69,-53.24 101.95,-62.43 106.53,-57.14\"/>\n",
       "</g>\n",
       "<!-- 11 -->\n",
       "<g id=\"node12\" class=\"node\">\n",
       "<title>11</title>\n",
       "<path fill=\"#399de5\" stroke=\"black\" d=\"M215.5,-53C215.5,-53 144.5,-53 144.5,-53 138.5,-53 132.5,-47 132.5,-41 132.5,-41 132.5,-12 132.5,-12 132.5,-6 138.5,0 144.5,0 144.5,0 215.5,0 215.5,0 221.5,0 227.5,-6 227.5,-12 227.5,-12 227.5,-41 227.5,-41 227.5,-47 221.5,-53 215.5,-53\"/>\n",
       "<text text-anchor=\"start\" x=\"152\" y=\"-37.8\" font-family=\"Helvetica,sans-Serif\" font-size=\"14.00\">gini = 0.0</text>\n",
       "<text text-anchor=\"start\" x=\"142.5\" y=\"-22.8\" font-family=\"Helvetica,sans-Serif\" font-size=\"14.00\">samples = 4</text>\n",
       "<text text-anchor=\"start\" x=\"140.5\" y=\"-7.8\" font-family=\"Helvetica,sans-Serif\" font-size=\"14.00\">value = [0, 4]</text>\n",
       "</g>\n",
       "<!-- 9&#45;&gt;11 -->\n",
       "<g id=\"edge11\" class=\"edge\">\n",
       "<title>9&#45;&gt;11</title>\n",
       "<path fill=\"none\" stroke=\"black\" d=\"M177.4,-88.95C177.75,-80.72 178.12,-71.85 178.48,-63.48\"/>\n",
       "<polygon fill=\"black\" stroke=\"black\" points=\"181.98,-63.38 178.91,-53.24 174.99,-63.08 181.98,-63.38\"/>\n",
       "</g>\n",
       "<!-- 14 -->\n",
       "<g id=\"node15\" class=\"node\">\n",
       "<title>14</title>\n",
       "<path fill=\"#f5cdb0\" stroke=\"black\" d=\"M404.5,-365C404.5,-365 333.5,-365 333.5,-365 327.5,-365 321.5,-359 321.5,-353 321.5,-353 321.5,-309 321.5,-309 321.5,-303 327.5,-297 333.5,-297 333.5,-297 404.5,-297 404.5,-297 410.5,-297 416.5,-303 416.5,-309 416.5,-309 416.5,-353 416.5,-353 416.5,-359 410.5,-365 404.5,-365\"/>\n",
       "<text text-anchor=\"start\" x=\"335\" y=\"-349.8\" font-family=\"Helvetica,sans-Serif\" font-size=\"14.00\">year ≤ 73.5</text>\n",
       "<text text-anchor=\"start\" x=\"333.5\" y=\"-334.8\" font-family=\"Helvetica,sans-Serif\" font-size=\"14.00\">gini = 0.469</text>\n",
       "<text text-anchor=\"start\" x=\"331.5\" y=\"-319.8\" font-family=\"Helvetica,sans-Serif\" font-size=\"14.00\">samples = 8</text>\n",
       "<text text-anchor=\"start\" x=\"329.5\" y=\"-304.8\" font-family=\"Helvetica,sans-Serif\" font-size=\"14.00\">value = [5, 3]</text>\n",
       "</g>\n",
       "<!-- 13&#45;&gt;14 -->\n",
       "<g id=\"edge14\" class=\"edge\">\n",
       "<title>13&#45;&gt;14</title>\n",
       "<path fill=\"none\" stroke=\"black\" d=\"M408.84,-400.88C403.9,-392.33 398.51,-383.01 393.34,-374.07\"/>\n",
       "<polygon fill=\"black\" stroke=\"black\" points=\"396.3,-372.2 388.26,-365.3 390.24,-375.71 396.3,-372.2\"/>\n",
       "</g>\n",
       "<!-- 21 -->\n",
       "<g id=\"node22\" class=\"node\">\n",
       "<title>21</title>\n",
       "<path fill=\"#e58139\" stroke=\"black\" d=\"M517.5,-357.5C517.5,-357.5 446.5,-357.5 446.5,-357.5 440.5,-357.5 434.5,-351.5 434.5,-345.5 434.5,-345.5 434.5,-316.5 434.5,-316.5 434.5,-310.5 440.5,-304.5 446.5,-304.5 446.5,-304.5 517.5,-304.5 517.5,-304.5 523.5,-304.5 529.5,-310.5 529.5,-316.5 529.5,-316.5 529.5,-345.5 529.5,-345.5 529.5,-351.5 523.5,-357.5 517.5,-357.5\"/>\n",
       "<text text-anchor=\"start\" x=\"454\" y=\"-342.3\" font-family=\"Helvetica,sans-Serif\" font-size=\"14.00\">gini = 0.0</text>\n",
       "<text text-anchor=\"start\" x=\"444.5\" y=\"-327.3\" font-family=\"Helvetica,sans-Serif\" font-size=\"14.00\">samples = 5</text>\n",
       "<text text-anchor=\"start\" x=\"442.5\" y=\"-312.3\" font-family=\"Helvetica,sans-Serif\" font-size=\"14.00\">value = [5, 0]</text>\n",
       "</g>\n",
       "<!-- 13&#45;&gt;21 -->\n",
       "<g id=\"edge21\" class=\"edge\">\n",
       "<title>13&#45;&gt;21</title>\n",
       "<path fill=\"none\" stroke=\"black\" d=\"M445.53,-400.88C451.35,-389.89 457.85,-377.62 463.73,-366.52\"/>\n",
       "<polygon fill=\"black\" stroke=\"black\" points=\"466.9,-368 468.49,-357.52 460.72,-364.72 466.9,-368\"/>\n",
       "</g>\n",
       "<!-- 15 -->\n",
       "<g id=\"node16\" class=\"node\">\n",
       "<title>15</title>\n",
       "<path fill=\"#ea9a61\" stroke=\"black\" d=\"M413,-261C413,-261 325,-261 325,-261 319,-261 313,-255 313,-249 313,-249 313,-205 313,-205 313,-199 319,-193 325,-193 325,-193 413,-193 413,-193 419,-193 425,-199 425,-205 425,-205 425,-249 425,-249 425,-255 419,-261 413,-261\"/>\n",
       "<text text-anchor=\"start\" x=\"321\" y=\"-245.8\" font-family=\"Helvetica,sans-Serif\" font-size=\"14.00\">weight ≤ 2329.5</text>\n",
       "<text text-anchor=\"start\" x=\"333.5\" y=\"-230.8\" font-family=\"Helvetica,sans-Serif\" font-size=\"14.00\">gini = 0.278</text>\n",
       "<text text-anchor=\"start\" x=\"331.5\" y=\"-215.8\" font-family=\"Helvetica,sans-Serif\" font-size=\"14.00\">samples = 6</text>\n",
       "<text text-anchor=\"start\" x=\"329.5\" y=\"-200.8\" font-family=\"Helvetica,sans-Serif\" font-size=\"14.00\">value = [5, 1]</text>\n",
       "</g>\n",
       "<!-- 14&#45;&gt;15 -->\n",
       "<g id=\"edge15\" class=\"edge\">\n",
       "<title>14&#45;&gt;15</title>\n",
       "<path fill=\"none\" stroke=\"black\" d=\"M369,-296.88C369,-288.78 369,-279.98 369,-271.47\"/>\n",
       "<polygon fill=\"black\" stroke=\"black\" points=\"372.5,-271.3 369,-261.3 365.5,-271.3 372.5,-271.3\"/>\n",
       "</g>\n",
       "<!-- 20 -->\n",
       "<g id=\"node21\" class=\"node\">\n",
       "<title>20</title>\n",
       "<path fill=\"#399de5\" stroke=\"black\" d=\"M526.5,-253.5C526.5,-253.5 455.5,-253.5 455.5,-253.5 449.5,-253.5 443.5,-247.5 443.5,-241.5 443.5,-241.5 443.5,-212.5 443.5,-212.5 443.5,-206.5 449.5,-200.5 455.5,-200.5 455.5,-200.5 526.5,-200.5 526.5,-200.5 532.5,-200.5 538.5,-206.5 538.5,-212.5 538.5,-212.5 538.5,-241.5 538.5,-241.5 538.5,-247.5 532.5,-253.5 526.5,-253.5\"/>\n",
       "<text text-anchor=\"start\" x=\"463\" y=\"-238.3\" font-family=\"Helvetica,sans-Serif\" font-size=\"14.00\">gini = 0.0</text>\n",
       "<text text-anchor=\"start\" x=\"453.5\" y=\"-223.3\" font-family=\"Helvetica,sans-Serif\" font-size=\"14.00\">samples = 2</text>\n",
       "<text text-anchor=\"start\" x=\"451.5\" y=\"-208.3\" font-family=\"Helvetica,sans-Serif\" font-size=\"14.00\">value = [0, 2]</text>\n",
       "</g>\n",
       "<!-- 14&#45;&gt;20 -->\n",
       "<g id=\"edge20\" class=\"edge\">\n",
       "<title>14&#45;&gt;20</title>\n",
       "<path fill=\"none\" stroke=\"black\" d=\"M408.61,-296.88C422.69,-285.12 438.5,-271.89 452.48,-260.2\"/>\n",
       "<polygon fill=\"black\" stroke=\"black\" points=\"455.05,-262.62 460.48,-253.52 450.56,-257.25 455.05,-262.62\"/>\n",
       "</g>\n",
       "<!-- 16 -->\n",
       "<g id=\"node17\" class=\"node\">\n",
       "<title>16</title>\n",
       "<path fill=\"#ffffff\" stroke=\"black\" d=\"M424,-157C424,-157 310,-157 310,-157 304,-157 298,-151 298,-145 298,-145 298,-101 298,-101 298,-95 304,-89 310,-89 310,-89 424,-89 424,-89 430,-89 436,-95 436,-101 436,-101 436,-145 436,-145 436,-151 430,-157 424,-157\"/>\n",
       "<text text-anchor=\"start\" x=\"306\" y=\"-141.8\" font-family=\"Helvetica,sans-Serif\" font-size=\"14.00\">acceleration ≤ 14.75</text>\n",
       "<text text-anchor=\"start\" x=\"339\" y=\"-126.8\" font-family=\"Helvetica,sans-Serif\" font-size=\"14.00\">gini = 0.5</text>\n",
       "<text text-anchor=\"start\" x=\"329.5\" y=\"-111.8\" font-family=\"Helvetica,sans-Serif\" font-size=\"14.00\">samples = 2</text>\n",
       "<text text-anchor=\"start\" x=\"327.5\" y=\"-96.8\" font-family=\"Helvetica,sans-Serif\" font-size=\"14.00\">value = [1, 1]</text>\n",
       "</g>\n",
       "<!-- 15&#45;&gt;16 -->\n",
       "<g id=\"edge16\" class=\"edge\">\n",
       "<title>15&#45;&gt;16</title>\n",
       "<path fill=\"none\" stroke=\"black\" d=\"M368.35,-192.88C368.19,-184.78 368.02,-175.98 367.85,-167.47\"/>\n",
       "<polygon fill=\"black\" stroke=\"black\" points=\"371.35,-167.23 367.65,-157.3 364.35,-167.37 371.35,-167.23\"/>\n",
       "</g>\n",
       "<!-- 19 -->\n",
       "<g id=\"node20\" class=\"node\">\n",
       "<title>19</title>\n",
       "<path fill=\"#e58139\" stroke=\"black\" d=\"M537.5,-149.5C537.5,-149.5 466.5,-149.5 466.5,-149.5 460.5,-149.5 454.5,-143.5 454.5,-137.5 454.5,-137.5 454.5,-108.5 454.5,-108.5 454.5,-102.5 460.5,-96.5 466.5,-96.5 466.5,-96.5 537.5,-96.5 537.5,-96.5 543.5,-96.5 549.5,-102.5 549.5,-108.5 549.5,-108.5 549.5,-137.5 549.5,-137.5 549.5,-143.5 543.5,-149.5 537.5,-149.5\"/>\n",
       "<text text-anchor=\"start\" x=\"474\" y=\"-134.3\" font-family=\"Helvetica,sans-Serif\" font-size=\"14.00\">gini = 0.0</text>\n",
       "<text text-anchor=\"start\" x=\"464.5\" y=\"-119.3\" font-family=\"Helvetica,sans-Serif\" font-size=\"14.00\">samples = 4</text>\n",
       "<text text-anchor=\"start\" x=\"462.5\" y=\"-104.3\" font-family=\"Helvetica,sans-Serif\" font-size=\"14.00\">value = [4, 0]</text>\n",
       "</g>\n",
       "<!-- 15&#45;&gt;19 -->\n",
       "<g id=\"edge19\" class=\"edge\">\n",
       "<title>15&#45;&gt;19</title>\n",
       "<path fill=\"none\" stroke=\"black\" d=\"M412.18,-192.88C427.67,-181.01 445.09,-167.65 460.44,-155.88\"/>\n",
       "<polygon fill=\"black\" stroke=\"black\" points=\"462.92,-158.38 468.72,-149.52 458.66,-152.83 462.92,-158.38\"/>\n",
       "</g>\n",
       "<!-- 17 -->\n",
       "<g id=\"node18\" class=\"node\">\n",
       "<title>17</title>\n",
       "<path fill=\"#e58139\" stroke=\"black\" d=\"M337.5,-53C337.5,-53 266.5,-53 266.5,-53 260.5,-53 254.5,-47 254.5,-41 254.5,-41 254.5,-12 254.5,-12 254.5,-6 260.5,0 266.5,0 266.5,0 337.5,0 337.5,0 343.5,0 349.5,-6 349.5,-12 349.5,-12 349.5,-41 349.5,-41 349.5,-47 343.5,-53 337.5,-53\"/>\n",
       "<text text-anchor=\"start\" x=\"274\" y=\"-37.8\" font-family=\"Helvetica,sans-Serif\" font-size=\"14.00\">gini = 0.0</text>\n",
       "<text text-anchor=\"start\" x=\"264.5\" y=\"-22.8\" font-family=\"Helvetica,sans-Serif\" font-size=\"14.00\">samples = 1</text>\n",
       "<text text-anchor=\"start\" x=\"262.5\" y=\"-7.8\" font-family=\"Helvetica,sans-Serif\" font-size=\"14.00\">value = [1, 0]</text>\n",
       "</g>\n",
       "<!-- 16&#45;&gt;17 -->\n",
       "<g id=\"edge17\" class=\"edge\">\n",
       "<title>16&#45;&gt;17</title>\n",
       "<path fill=\"none\" stroke=\"black\" d=\"M344.27,-88.95C338.16,-80.07 331.55,-70.46 325.41,-61.54\"/>\n",
       "<polygon fill=\"black\" stroke=\"black\" points=\"328.25,-59.49 319.7,-53.24 322.49,-63.46 328.25,-59.49\"/>\n",
       "</g>\n",
       "<!-- 18 -->\n",
       "<g id=\"node19\" class=\"node\">\n",
       "<title>18</title>\n",
       "<path fill=\"#399de5\" stroke=\"black\" d=\"M450.5,-53C450.5,-53 379.5,-53 379.5,-53 373.5,-53 367.5,-47 367.5,-41 367.5,-41 367.5,-12 367.5,-12 367.5,-6 373.5,0 379.5,0 379.5,0 450.5,0 450.5,0 456.5,0 462.5,-6 462.5,-12 462.5,-12 462.5,-41 462.5,-41 462.5,-47 456.5,-53 450.5,-53\"/>\n",
       "<text text-anchor=\"start\" x=\"387\" y=\"-37.8\" font-family=\"Helvetica,sans-Serif\" font-size=\"14.00\">gini = 0.0</text>\n",
       "<text text-anchor=\"start\" x=\"377.5\" y=\"-22.8\" font-family=\"Helvetica,sans-Serif\" font-size=\"14.00\">samples = 1</text>\n",
       "<text text-anchor=\"start\" x=\"375.5\" y=\"-7.8\" font-family=\"Helvetica,sans-Serif\" font-size=\"14.00\">value = [0, 1]</text>\n",
       "</g>\n",
       "<!-- 16&#45;&gt;18 -->\n",
       "<g id=\"edge18\" class=\"edge\">\n",
       "<title>16&#45;&gt;18</title>\n",
       "<path fill=\"none\" stroke=\"black\" d=\"M383.79,-88.95C388.16,-80.35 392.88,-71.06 397.29,-62.37\"/>\n",
       "<polygon fill=\"black\" stroke=\"black\" points=\"400.52,-63.74 401.93,-53.24 394.28,-60.57 400.52,-63.74\"/>\n",
       "</g>\n",
       "<!-- 23 -->\n",
       "<g id=\"node24\" class=\"node\">\n",
       "<title>23</title>\n",
       "<path fill=\"#3b9ee5\" stroke=\"black\" d=\"M756,-469C756,-469 668,-469 668,-469 662,-469 656,-463 656,-457 656,-457 656,-413 656,-413 656,-407 662,-401 668,-401 668,-401 756,-401 756,-401 762,-401 768,-407 768,-413 768,-413 768,-457 768,-457 768,-463 762,-469 756,-469\"/>\n",
       "<text text-anchor=\"start\" x=\"664\" y=\"-453.8\" font-family=\"Helvetica,sans-Serif\" font-size=\"14.00\">weight ≤ 2880.0</text>\n",
       "<text text-anchor=\"start\" x=\"680\" y=\"-438.8\" font-family=\"Helvetica,sans-Serif\" font-size=\"14.00\">gini = 0.02</text>\n",
       "<text text-anchor=\"start\" x=\"667\" y=\"-423.8\" font-family=\"Helvetica,sans-Serif\" font-size=\"14.00\">samples = 100</text>\n",
       "<text text-anchor=\"start\" x=\"669\" y=\"-408.8\" font-family=\"Helvetica,sans-Serif\" font-size=\"14.00\">value = [1, 99]</text>\n",
       "</g>\n",
       "<!-- 22&#45;&gt;23 -->\n",
       "<g id=\"edge23\" class=\"edge\">\n",
       "<title>22&#45;&gt;23</title>\n",
       "<path fill=\"none\" stroke=\"black\" d=\"M761.97,-504.88C755.64,-496.15 748.73,-486.62 742.12,-477.51\"/>\n",
       "<polygon fill=\"black\" stroke=\"black\" points=\"744.86,-475.34 736.16,-469.3 739.2,-479.45 744.86,-475.34\"/>\n",
       "</g>\n",
       "<!-- 28 -->\n",
       "<g id=\"node29\" class=\"node\">\n",
       "<title>28</title>\n",
       "<path fill=\"#ffffff\" stroke=\"black\" d=\"M920,-469C920,-469 798,-469 798,-469 792,-469 786,-463 786,-457 786,-457 786,-413 786,-413 786,-407 792,-401 798,-401 798,-401 920,-401 920,-401 926,-401 932,-407 932,-413 932,-413 932,-457 932,-457 932,-463 926,-469 920,-469\"/>\n",
       "<text text-anchor=\"start\" x=\"794\" y=\"-453.8\" font-family=\"Helvetica,sans-Serif\" font-size=\"14.00\">displacement ≤ 151.5</text>\n",
       "<text text-anchor=\"start\" x=\"831\" y=\"-438.8\" font-family=\"Helvetica,sans-Serif\" font-size=\"14.00\">gini = 0.5</text>\n",
       "<text text-anchor=\"start\" x=\"821.5\" y=\"-423.8\" font-family=\"Helvetica,sans-Serif\" font-size=\"14.00\">samples = 2</text>\n",
       "<text text-anchor=\"start\" x=\"819.5\" y=\"-408.8\" font-family=\"Helvetica,sans-Serif\" font-size=\"14.00\">value = [1, 1]</text>\n",
       "</g>\n",
       "<!-- 22&#45;&gt;28 -->\n",
       "<g id=\"edge28\" class=\"edge\">\n",
       "<title>22&#45;&gt;28</title>\n",
       "<path fill=\"none\" stroke=\"black\" d=\"M809.7,-504.88C815.95,-496.15 822.77,-486.62 829.29,-477.51\"/>\n",
       "<polygon fill=\"black\" stroke=\"black\" points=\"832.19,-479.47 835.17,-469.3 826.5,-475.39 832.19,-479.47\"/>\n",
       "</g>\n",
       "<!-- 24 -->\n",
       "<g id=\"node25\" class=\"node\">\n",
       "<title>24</title>\n",
       "<path fill=\"#399de5\" stroke=\"black\" d=\"M638,-357.5C638,-357.5 560,-357.5 560,-357.5 554,-357.5 548,-351.5 548,-345.5 548,-345.5 548,-316.5 548,-316.5 548,-310.5 554,-304.5 560,-304.5 560,-304.5 638,-304.5 638,-304.5 644,-304.5 650,-310.5 650,-316.5 650,-316.5 650,-345.5 650,-345.5 650,-351.5 644,-357.5 638,-357.5\"/>\n",
       "<text text-anchor=\"start\" x=\"571\" y=\"-342.3\" font-family=\"Helvetica,sans-Serif\" font-size=\"14.00\">gini = 0.0</text>\n",
       "<text text-anchor=\"start\" x=\"558\" y=\"-327.3\" font-family=\"Helvetica,sans-Serif\" font-size=\"14.00\">samples = 94</text>\n",
       "<text text-anchor=\"start\" x=\"556\" y=\"-312.3\" font-family=\"Helvetica,sans-Serif\" font-size=\"14.00\">value = [0, 94]</text>\n",
       "</g>\n",
       "<!-- 23&#45;&gt;24 -->\n",
       "<g id=\"edge24\" class=\"edge\">\n",
       "<title>23&#45;&gt;24</title>\n",
       "<path fill=\"none\" stroke=\"black\" d=\"M675.31,-400.88C662.4,-389.23 647.9,-376.14 635.04,-364.53\"/>\n",
       "<polygon fill=\"black\" stroke=\"black\" points=\"637.04,-361.62 627.27,-357.52 632.35,-366.82 637.04,-361.62\"/>\n",
       "</g>\n",
       "<!-- 25 -->\n",
       "<g id=\"node26\" class=\"node\">\n",
       "<title>25</title>\n",
       "<path fill=\"#61b1ea\" stroke=\"black\" d=\"M768,-365C768,-365 680,-365 680,-365 674,-365 668,-359 668,-353 668,-353 668,-309 668,-309 668,-303 674,-297 680,-297 680,-297 768,-297 768,-297 774,-297 780,-303 780,-309 780,-309 780,-353 780,-353 780,-359 774,-365 768,-365\"/>\n",
       "<text text-anchor=\"start\" x=\"676\" y=\"-349.8\" font-family=\"Helvetica,sans-Serif\" font-size=\"14.00\">weight ≤ 2920.0</text>\n",
       "<text text-anchor=\"start\" x=\"688.5\" y=\"-334.8\" font-family=\"Helvetica,sans-Serif\" font-size=\"14.00\">gini = 0.278</text>\n",
       "<text text-anchor=\"start\" x=\"686.5\" y=\"-319.8\" font-family=\"Helvetica,sans-Serif\" font-size=\"14.00\">samples = 6</text>\n",
       "<text text-anchor=\"start\" x=\"684.5\" y=\"-304.8\" font-family=\"Helvetica,sans-Serif\" font-size=\"14.00\">value = [1, 5]</text>\n",
       "</g>\n",
       "<!-- 23&#45;&gt;25 -->\n",
       "<g id=\"edge25\" class=\"edge\">\n",
       "<title>23&#45;&gt;25</title>\n",
       "<path fill=\"none\" stroke=\"black\" d=\"M715.9,-400.88C716.85,-392.78 717.88,-383.98 718.89,-375.47\"/>\n",
       "<polygon fill=\"black\" stroke=\"black\" points=\"722.39,-375.64 720.08,-365.3 715.44,-374.82 722.39,-375.64\"/>\n",
       "</g>\n",
       "<!-- 26 -->\n",
       "<g id=\"node27\" class=\"node\">\n",
       "<title>26</title>\n",
       "<path fill=\"#e58139\" stroke=\"black\" d=\"M703.5,-253.5C703.5,-253.5 632.5,-253.5 632.5,-253.5 626.5,-253.5 620.5,-247.5 620.5,-241.5 620.5,-241.5 620.5,-212.5 620.5,-212.5 620.5,-206.5 626.5,-200.5 632.5,-200.5 632.5,-200.5 703.5,-200.5 703.5,-200.5 709.5,-200.5 715.5,-206.5 715.5,-212.5 715.5,-212.5 715.5,-241.5 715.5,-241.5 715.5,-247.5 709.5,-253.5 703.5,-253.5\"/>\n",
       "<text text-anchor=\"start\" x=\"640\" y=\"-238.3\" font-family=\"Helvetica,sans-Serif\" font-size=\"14.00\">gini = 0.0</text>\n",
       "<text text-anchor=\"start\" x=\"630.5\" y=\"-223.3\" font-family=\"Helvetica,sans-Serif\" font-size=\"14.00\">samples = 1</text>\n",
       "<text text-anchor=\"start\" x=\"628.5\" y=\"-208.3\" font-family=\"Helvetica,sans-Serif\" font-size=\"14.00\">value = [1, 0]</text>\n",
       "</g>\n",
       "<!-- 25&#45;&gt;26 -->\n",
       "<g id=\"edge26\" class=\"edge\">\n",
       "<title>25&#45;&gt;26</title>\n",
       "<path fill=\"none\" stroke=\"black\" d=\"M705.82,-296.88C699.78,-285.89 693.04,-273.62 686.95,-262.52\"/>\n",
       "<polygon fill=\"black\" stroke=\"black\" points=\"689.89,-260.6 682.01,-253.52 683.76,-263.97 689.89,-260.6\"/>\n",
       "</g>\n",
       "<!-- 27 -->\n",
       "<g id=\"node28\" class=\"node\">\n",
       "<title>27</title>\n",
       "<path fill=\"#399de5\" stroke=\"black\" d=\"M816.5,-253.5C816.5,-253.5 745.5,-253.5 745.5,-253.5 739.5,-253.5 733.5,-247.5 733.5,-241.5 733.5,-241.5 733.5,-212.5 733.5,-212.5 733.5,-206.5 739.5,-200.5 745.5,-200.5 745.5,-200.5 816.5,-200.5 816.5,-200.5 822.5,-200.5 828.5,-206.5 828.5,-212.5 828.5,-212.5 828.5,-241.5 828.5,-241.5 828.5,-247.5 822.5,-253.5 816.5,-253.5\"/>\n",
       "<text text-anchor=\"start\" x=\"753\" y=\"-238.3\" font-family=\"Helvetica,sans-Serif\" font-size=\"14.00\">gini = 0.0</text>\n",
       "<text text-anchor=\"start\" x=\"743.5\" y=\"-223.3\" font-family=\"Helvetica,sans-Serif\" font-size=\"14.00\">samples = 5</text>\n",
       "<text text-anchor=\"start\" x=\"741.5\" y=\"-208.3\" font-family=\"Helvetica,sans-Serif\" font-size=\"14.00\">value = [0, 5]</text>\n",
       "</g>\n",
       "<!-- 25&#45;&gt;27 -->\n",
       "<g id=\"edge27\" class=\"edge\">\n",
       "<title>25&#45;&gt;27</title>\n",
       "<path fill=\"none\" stroke=\"black\" d=\"M742.51,-296.88C748.65,-285.89 755.51,-273.62 761.71,-262.52\"/>\n",
       "<polygon fill=\"black\" stroke=\"black\" points=\"764.92,-263.96 766.74,-253.52 758.81,-260.54 764.92,-263.96\"/>\n",
       "</g>\n",
       "<!-- 29 -->\n",
       "<g id=\"node30\" class=\"node\">\n",
       "<title>29</title>\n",
       "<path fill=\"#e58139\" stroke=\"black\" d=\"M881.5,-357.5C881.5,-357.5 810.5,-357.5 810.5,-357.5 804.5,-357.5 798.5,-351.5 798.5,-345.5 798.5,-345.5 798.5,-316.5 798.5,-316.5 798.5,-310.5 804.5,-304.5 810.5,-304.5 810.5,-304.5 881.5,-304.5 881.5,-304.5 887.5,-304.5 893.5,-310.5 893.5,-316.5 893.5,-316.5 893.5,-345.5 893.5,-345.5 893.5,-351.5 887.5,-357.5 881.5,-357.5\"/>\n",
       "<text text-anchor=\"start\" x=\"818\" y=\"-342.3\" font-family=\"Helvetica,sans-Serif\" font-size=\"14.00\">gini = 0.0</text>\n",
       "<text text-anchor=\"start\" x=\"808.5\" y=\"-327.3\" font-family=\"Helvetica,sans-Serif\" font-size=\"14.00\">samples = 1</text>\n",
       "<text text-anchor=\"start\" x=\"806.5\" y=\"-312.3\" font-family=\"Helvetica,sans-Serif\" font-size=\"14.00\">value = [1, 0]</text>\n",
       "</g>\n",
       "<!-- 28&#45;&gt;29 -->\n",
       "<g id=\"edge29\" class=\"edge\">\n",
       "<title>28&#45;&gt;29</title>\n",
       "<path fill=\"none\" stroke=\"black\" d=\"M854.78,-400.88C853.42,-390.22 851.91,-378.35 850.53,-367.52\"/>\n",
       "<polygon fill=\"black\" stroke=\"black\" points=\"853.99,-367 849.25,-357.52 847.04,-367.88 853.99,-367\"/>\n",
       "</g>\n",
       "<!-- 30 -->\n",
       "<g id=\"node31\" class=\"node\">\n",
       "<title>30</title>\n",
       "<path fill=\"#399de5\" stroke=\"black\" d=\"M994.5,-357.5C994.5,-357.5 923.5,-357.5 923.5,-357.5 917.5,-357.5 911.5,-351.5 911.5,-345.5 911.5,-345.5 911.5,-316.5 911.5,-316.5 911.5,-310.5 917.5,-304.5 923.5,-304.5 923.5,-304.5 994.5,-304.5 994.5,-304.5 1000.5,-304.5 1006.5,-310.5 1006.5,-316.5 1006.5,-316.5 1006.5,-345.5 1006.5,-345.5 1006.5,-351.5 1000.5,-357.5 994.5,-357.5\"/>\n",
       "<text text-anchor=\"start\" x=\"931\" y=\"-342.3\" font-family=\"Helvetica,sans-Serif\" font-size=\"14.00\">gini = 0.0</text>\n",
       "<text text-anchor=\"start\" x=\"921.5\" y=\"-327.3\" font-family=\"Helvetica,sans-Serif\" font-size=\"14.00\">samples = 1</text>\n",
       "<text text-anchor=\"start\" x=\"919.5\" y=\"-312.3\" font-family=\"Helvetica,sans-Serif\" font-size=\"14.00\">value = [0, 1]</text>\n",
       "</g>\n",
       "<!-- 28&#45;&gt;30 -->\n",
       "<g id=\"edge30\" class=\"edge\">\n",
       "<title>28&#45;&gt;30</title>\n",
       "<path fill=\"none\" stroke=\"black\" d=\"M891.47,-400.88C902.79,-389.34 915.48,-376.39 926.78,-364.86\"/>\n",
       "<polygon fill=\"black\" stroke=\"black\" points=\"929.48,-367.11 933.98,-357.52 924.48,-362.21 929.48,-367.11\"/>\n",
       "</g>\n",
       "<!-- 32 -->\n",
       "<g id=\"node33\" class=\"node\">\n",
       "<title>32</title>\n",
       "<path fill=\"#9ccef2\" stroke=\"black\" d=\"M1113.5,-573C1113.5,-573 1042.5,-573 1042.5,-573 1036.5,-573 1030.5,-567 1030.5,-561 1030.5,-561 1030.5,-517 1030.5,-517 1030.5,-511 1036.5,-505 1042.5,-505 1042.5,-505 1113.5,-505 1113.5,-505 1119.5,-505 1125.5,-511 1125.5,-517 1125.5,-517 1125.5,-561 1125.5,-561 1125.5,-567 1119.5,-573 1113.5,-573\"/>\n",
       "<text text-anchor=\"start\" x=\"1044\" y=\"-557.8\" font-family=\"Helvetica,sans-Serif\" font-size=\"14.00\">year ≤ 76.0</text>\n",
       "<text text-anchor=\"start\" x=\"1042.5\" y=\"-542.8\" font-family=\"Helvetica,sans-Serif\" font-size=\"14.00\">gini = 0.444</text>\n",
       "<text text-anchor=\"start\" x=\"1040.5\" y=\"-527.8\" font-family=\"Helvetica,sans-Serif\" font-size=\"14.00\">samples = 6</text>\n",
       "<text text-anchor=\"start\" x=\"1038.5\" y=\"-512.8\" font-family=\"Helvetica,sans-Serif\" font-size=\"14.00\">value = [2, 4]</text>\n",
       "</g>\n",
       "<!-- 31&#45;&gt;32 -->\n",
       "<g id=\"edge32\" class=\"edge\">\n",
       "<title>31&#45;&gt;32</title>\n",
       "<path fill=\"none\" stroke=\"black\" d=\"M1116.49,-608.88C1111.72,-600.33 1106.51,-591.01 1101.51,-582.07\"/>\n",
       "<polygon fill=\"black\" stroke=\"black\" points=\"1104.54,-580.32 1096.61,-573.3 1098.43,-583.74 1104.54,-580.32\"/>\n",
       "</g>\n",
       "<!-- 37 -->\n",
       "<g id=\"node38\" class=\"node\">\n",
       "<title>37</title>\n",
       "<path fill=\"#e58139\" stroke=\"black\" d=\"M1226.5,-565.5C1226.5,-565.5 1155.5,-565.5 1155.5,-565.5 1149.5,-565.5 1143.5,-559.5 1143.5,-553.5 1143.5,-553.5 1143.5,-524.5 1143.5,-524.5 1143.5,-518.5 1149.5,-512.5 1155.5,-512.5 1155.5,-512.5 1226.5,-512.5 1226.5,-512.5 1232.5,-512.5 1238.5,-518.5 1238.5,-524.5 1238.5,-524.5 1238.5,-553.5 1238.5,-553.5 1238.5,-559.5 1232.5,-565.5 1226.5,-565.5\"/>\n",
       "<text text-anchor=\"start\" x=\"1163\" y=\"-550.3\" font-family=\"Helvetica,sans-Serif\" font-size=\"14.00\">gini = 0.0</text>\n",
       "<text text-anchor=\"start\" x=\"1153.5\" y=\"-535.3\" font-family=\"Helvetica,sans-Serif\" font-size=\"14.00\">samples = 6</text>\n",
       "<text text-anchor=\"start\" x=\"1151.5\" y=\"-520.3\" font-family=\"Helvetica,sans-Serif\" font-size=\"14.00\">value = [6, 0]</text>\n",
       "</g>\n",
       "<!-- 31&#45;&gt;37 -->\n",
       "<g id=\"edge37\" class=\"edge\">\n",
       "<title>31&#45;&gt;37</title>\n",
       "<path fill=\"none\" stroke=\"black\" d=\"M1153.18,-608.88C1159.22,-597.89 1165.96,-585.62 1172.05,-574.52\"/>\n",
       "<polygon fill=\"black\" stroke=\"black\" points=\"1175.24,-575.97 1176.99,-565.52 1169.11,-572.6 1175.24,-575.97\"/>\n",
       "</g>\n",
       "<!-- 33 -->\n",
       "<g id=\"node34\" class=\"node\">\n",
       "<title>33</title>\n",
       "<path fill=\"#399de5\" stroke=\"black\" d=\"M1066.5,-461.5C1066.5,-461.5 995.5,-461.5 995.5,-461.5 989.5,-461.5 983.5,-455.5 983.5,-449.5 983.5,-449.5 983.5,-420.5 983.5,-420.5 983.5,-414.5 989.5,-408.5 995.5,-408.5 995.5,-408.5 1066.5,-408.5 1066.5,-408.5 1072.5,-408.5 1078.5,-414.5 1078.5,-420.5 1078.5,-420.5 1078.5,-449.5 1078.5,-449.5 1078.5,-455.5 1072.5,-461.5 1066.5,-461.5\"/>\n",
       "<text text-anchor=\"start\" x=\"1003\" y=\"-446.3\" font-family=\"Helvetica,sans-Serif\" font-size=\"14.00\">gini = 0.0</text>\n",
       "<text text-anchor=\"start\" x=\"993.5\" y=\"-431.3\" font-family=\"Helvetica,sans-Serif\" font-size=\"14.00\">samples = 3</text>\n",
       "<text text-anchor=\"start\" x=\"991.5\" y=\"-416.3\" font-family=\"Helvetica,sans-Serif\" font-size=\"14.00\">value = [0, 3]</text>\n",
       "</g>\n",
       "<!-- 32&#45;&gt;33 -->\n",
       "<g id=\"edge33\" class=\"edge\">\n",
       "<title>32&#45;&gt;33</title>\n",
       "<path fill=\"none\" stroke=\"black\" d=\"M1062.74,-504.88C1057.72,-494 1052.13,-481.86 1047.06,-470.85\"/>\n",
       "<polygon fill=\"black\" stroke=\"black\" points=\"1050.12,-469.14 1042.76,-461.52 1043.77,-472.07 1050.12,-469.14\"/>\n",
       "</g>\n",
       "<!-- 34 -->\n",
       "<g id=\"node35\" class=\"node\">\n",
       "<title>34</title>\n",
       "<path fill=\"#f2c09c\" stroke=\"black\" d=\"M1197,-469C1197,-469 1109,-469 1109,-469 1103,-469 1097,-463 1097,-457 1097,-457 1097,-413 1097,-413 1097,-407 1103,-401 1109,-401 1109,-401 1197,-401 1197,-401 1203,-401 1209,-407 1209,-413 1209,-413 1209,-457 1209,-457 1209,-463 1203,-469 1197,-469\"/>\n",
       "<text text-anchor=\"start\" x=\"1105\" y=\"-453.8\" font-family=\"Helvetica,sans-Serif\" font-size=\"14.00\">weight ≤ 2760.0</text>\n",
       "<text text-anchor=\"start\" x=\"1117.5\" y=\"-438.8\" font-family=\"Helvetica,sans-Serif\" font-size=\"14.00\">gini = 0.444</text>\n",
       "<text text-anchor=\"start\" x=\"1115.5\" y=\"-423.8\" font-family=\"Helvetica,sans-Serif\" font-size=\"14.00\">samples = 3</text>\n",
       "<text text-anchor=\"start\" x=\"1113.5\" y=\"-408.8\" font-family=\"Helvetica,sans-Serif\" font-size=\"14.00\">value = [2, 1]</text>\n",
       "</g>\n",
       "<!-- 32&#45;&gt;34 -->\n",
       "<g id=\"edge34\" class=\"edge\">\n",
       "<title>32&#45;&gt;34</title>\n",
       "<path fill=\"none\" stroke=\"black\" d=\"M1102.35,-504.88C1108.77,-496.15 1115.78,-486.62 1122.48,-477.51\"/>\n",
       "<polygon fill=\"black\" stroke=\"black\" points=\"1125.41,-479.43 1128.52,-469.3 1119.77,-475.28 1125.41,-479.43\"/>\n",
       "</g>\n",
       "<!-- 35 -->\n",
       "<g id=\"node36\" class=\"node\">\n",
       "<title>35</title>\n",
       "<path fill=\"#e58139\" stroke=\"black\" d=\"M1107.5,-357.5C1107.5,-357.5 1036.5,-357.5 1036.5,-357.5 1030.5,-357.5 1024.5,-351.5 1024.5,-345.5 1024.5,-345.5 1024.5,-316.5 1024.5,-316.5 1024.5,-310.5 1030.5,-304.5 1036.5,-304.5 1036.5,-304.5 1107.5,-304.5 1107.5,-304.5 1113.5,-304.5 1119.5,-310.5 1119.5,-316.5 1119.5,-316.5 1119.5,-345.5 1119.5,-345.5 1119.5,-351.5 1113.5,-357.5 1107.5,-357.5\"/>\n",
       "<text text-anchor=\"start\" x=\"1044\" y=\"-342.3\" font-family=\"Helvetica,sans-Serif\" font-size=\"14.00\">gini = 0.0</text>\n",
       "<text text-anchor=\"start\" x=\"1034.5\" y=\"-327.3\" font-family=\"Helvetica,sans-Serif\" font-size=\"14.00\">samples = 2</text>\n",
       "<text text-anchor=\"start\" x=\"1032.5\" y=\"-312.3\" font-family=\"Helvetica,sans-Serif\" font-size=\"14.00\">value = [2, 0]</text>\n",
       "</g>\n",
       "<!-- 34&#45;&gt;35 -->\n",
       "<g id=\"edge35\" class=\"edge\">\n",
       "<title>34&#45;&gt;35</title>\n",
       "<path fill=\"none\" stroke=\"black\" d=\"M1126.7,-400.88C1117.71,-389.56 1107.64,-376.88 1098.62,-365.52\"/>\n",
       "<polygon fill=\"black\" stroke=\"black\" points=\"1101.23,-363.17 1092.27,-357.52 1095.74,-367.53 1101.23,-363.17\"/>\n",
       "</g>\n",
       "<!-- 36 -->\n",
       "<g id=\"node37\" class=\"node\">\n",
       "<title>36</title>\n",
       "<path fill=\"#399de5\" stroke=\"black\" d=\"M1220.5,-357.5C1220.5,-357.5 1149.5,-357.5 1149.5,-357.5 1143.5,-357.5 1137.5,-351.5 1137.5,-345.5 1137.5,-345.5 1137.5,-316.5 1137.5,-316.5 1137.5,-310.5 1143.5,-304.5 1149.5,-304.5 1149.5,-304.5 1220.5,-304.5 1220.5,-304.5 1226.5,-304.5 1232.5,-310.5 1232.5,-316.5 1232.5,-316.5 1232.5,-345.5 1232.5,-345.5 1232.5,-351.5 1226.5,-357.5 1220.5,-357.5\"/>\n",
       "<text text-anchor=\"start\" x=\"1157\" y=\"-342.3\" font-family=\"Helvetica,sans-Serif\" font-size=\"14.00\">gini = 0.0</text>\n",
       "<text text-anchor=\"start\" x=\"1147.5\" y=\"-327.3\" font-family=\"Helvetica,sans-Serif\" font-size=\"14.00\">samples = 1</text>\n",
       "<text text-anchor=\"start\" x=\"1145.5\" y=\"-312.3\" font-family=\"Helvetica,sans-Serif\" font-size=\"14.00\">value = [0, 1]</text>\n",
       "</g>\n",
       "<!-- 34&#45;&gt;36 -->\n",
       "<g id=\"edge36\" class=\"edge\">\n",
       "<title>34&#45;&gt;36</title>\n",
       "<path fill=\"none\" stroke=\"black\" d=\"M1163.39,-400.88C1166.77,-390.11 1170.53,-378.11 1173.96,-367.18\"/>\n",
       "<polygon fill=\"black\" stroke=\"black\" points=\"1177.34,-368.11 1176.99,-357.52 1170.66,-366.01 1177.34,-368.11\"/>\n",
       "</g>\n",
       "<!-- 39 -->\n",
       "<g id=\"node40\" class=\"node\">\n",
       "<title>39</title>\n",
       "<path fill=\"#e6843e\" stroke=\"black\" d=\"M1515.5,-677C1515.5,-677 1408.5,-677 1408.5,-677 1402.5,-677 1396.5,-671 1396.5,-665 1396.5,-665 1396.5,-621 1396.5,-621 1396.5,-615 1402.5,-609 1408.5,-609 1408.5,-609 1515.5,-609 1515.5,-609 1521.5,-609 1527.5,-615 1527.5,-621 1527.5,-621 1527.5,-665 1527.5,-665 1527.5,-671 1521.5,-677 1515.5,-677\"/>\n",
       "<text text-anchor=\"start\" x=\"1404.5\" y=\"-661.8\" font-family=\"Helvetica,sans-Serif\" font-size=\"14.00\">acceleration ≤ 21.6</text>\n",
       "<text text-anchor=\"start\" x=\"1426.5\" y=\"-646.8\" font-family=\"Helvetica,sans-Serif\" font-size=\"14.00\">gini = 0.045</text>\n",
       "<text text-anchor=\"start\" x=\"1417\" y=\"-631.8\" font-family=\"Helvetica,sans-Serif\" font-size=\"14.00\">samples = 129</text>\n",
       "<text text-anchor=\"start\" x=\"1415\" y=\"-616.8\" font-family=\"Helvetica,sans-Serif\" font-size=\"14.00\">value = [126, 3]</text>\n",
       "</g>\n",
       "<!-- 38&#45;&gt;39 -->\n",
       "<g id=\"edge39\" class=\"edge\">\n",
       "<title>38&#45;&gt;39</title>\n",
       "<path fill=\"none\" stroke=\"black\" d=\"M1462,-712.88C1462,-704.78 1462,-695.98 1462,-687.47\"/>\n",
       "<polygon fill=\"black\" stroke=\"black\" points=\"1465.5,-687.3 1462,-677.3 1458.5,-687.3 1465.5,-687.3\"/>\n",
       "</g>\n",
       "<!-- 50 -->\n",
       "<g id=\"node51\" class=\"node\">\n",
       "<title>50</title>\n",
       "<path fill=\"#9ccef2\" stroke=\"black\" d=\"M1706.5,-677C1706.5,-677 1635.5,-677 1635.5,-677 1629.5,-677 1623.5,-671 1623.5,-665 1623.5,-665 1623.5,-621 1623.5,-621 1623.5,-615 1629.5,-609 1635.5,-609 1635.5,-609 1706.5,-609 1706.5,-609 1712.5,-609 1718.5,-615 1718.5,-621 1718.5,-621 1718.5,-665 1718.5,-665 1718.5,-671 1712.5,-677 1706.5,-677\"/>\n",
       "<text text-anchor=\"start\" x=\"1637.5\" y=\"-661.8\" font-family=\"Helvetica,sans-Serif\" font-size=\"14.00\">origin ≤ 1.5</text>\n",
       "<text text-anchor=\"start\" x=\"1635.5\" y=\"-646.8\" font-family=\"Helvetica,sans-Serif\" font-size=\"14.00\">gini = 0.444</text>\n",
       "<text text-anchor=\"start\" x=\"1633.5\" y=\"-631.8\" font-family=\"Helvetica,sans-Serif\" font-size=\"14.00\">samples = 9</text>\n",
       "<text text-anchor=\"start\" x=\"1631.5\" y=\"-616.8\" font-family=\"Helvetica,sans-Serif\" font-size=\"14.00\">value = [3, 6]</text>\n",
       "</g>\n",
       "<!-- 38&#45;&gt;50 -->\n",
       "<g id=\"edge50\" class=\"edge\">\n",
       "<title>38&#45;&gt;50</title>\n",
       "<path fill=\"none\" stroke=\"black\" d=\"M1517.19,-719.07C1547.11,-704.46 1584.03,-686.45 1614.19,-671.72\"/>\n",
       "<polygon fill=\"black\" stroke=\"black\" points=\"1615.87,-674.8 1623.32,-667.27 1612.8,-668.51 1615.87,-674.8\"/>\n",
       "</g>\n",
       "<!-- 40 -->\n",
       "<g id=\"node41\" class=\"node\">\n",
       "<title>40</title>\n",
       "<path fill=\"#e5833c\" stroke=\"black\" d=\"M1445,-573C1445,-573 1357,-573 1357,-573 1351,-573 1345,-567 1345,-561 1345,-561 1345,-517 1345,-517 1345,-511 1351,-505 1357,-505 1357,-505 1445,-505 1445,-505 1451,-505 1457,-511 1457,-517 1457,-517 1457,-561 1457,-561 1457,-567 1451,-573 1445,-573\"/>\n",
       "<text text-anchor=\"start\" x=\"1353\" y=\"-557.8\" font-family=\"Helvetica,sans-Serif\" font-size=\"14.00\">weight ≤ 2737.0</text>\n",
       "<text text-anchor=\"start\" x=\"1365.5\" y=\"-542.8\" font-family=\"Helvetica,sans-Serif\" font-size=\"14.00\">gini = 0.031</text>\n",
       "<text text-anchor=\"start\" x=\"1356\" y=\"-527.8\" font-family=\"Helvetica,sans-Serif\" font-size=\"14.00\">samples = 128</text>\n",
       "<text text-anchor=\"start\" x=\"1354\" y=\"-512.8\" font-family=\"Helvetica,sans-Serif\" font-size=\"14.00\">value = [126, 2]</text>\n",
       "</g>\n",
       "<!-- 39&#45;&gt;40 -->\n",
       "<g id=\"edge40\" class=\"edge\">\n",
       "<title>39&#45;&gt;40</title>\n",
       "<path fill=\"none\" stroke=\"black\" d=\"M1442.2,-608.88C1437.08,-600.33 1431.51,-591.01 1426.16,-582.07\"/>\n",
       "<polygon fill=\"black\" stroke=\"black\" points=\"1429.05,-580.09 1420.91,-573.3 1423.04,-583.68 1429.05,-580.09\"/>\n",
       "</g>\n",
       "<!-- 49 -->\n",
       "<g id=\"node50\" class=\"node\">\n",
       "<title>49</title>\n",
       "<path fill=\"#399de5\" stroke=\"black\" d=\"M1558.5,-565.5C1558.5,-565.5 1487.5,-565.5 1487.5,-565.5 1481.5,-565.5 1475.5,-559.5 1475.5,-553.5 1475.5,-553.5 1475.5,-524.5 1475.5,-524.5 1475.5,-518.5 1481.5,-512.5 1487.5,-512.5 1487.5,-512.5 1558.5,-512.5 1558.5,-512.5 1564.5,-512.5 1570.5,-518.5 1570.5,-524.5 1570.5,-524.5 1570.5,-553.5 1570.5,-553.5 1570.5,-559.5 1564.5,-565.5 1558.5,-565.5\"/>\n",
       "<text text-anchor=\"start\" x=\"1495\" y=\"-550.3\" font-family=\"Helvetica,sans-Serif\" font-size=\"14.00\">gini = 0.0</text>\n",
       "<text text-anchor=\"start\" x=\"1485.5\" y=\"-535.3\" font-family=\"Helvetica,sans-Serif\" font-size=\"14.00\">samples = 1</text>\n",
       "<text text-anchor=\"start\" x=\"1483.5\" y=\"-520.3\" font-family=\"Helvetica,sans-Serif\" font-size=\"14.00\">value = [0, 1]</text>\n",
       "</g>\n",
       "<!-- 39&#45;&gt;49 -->\n",
       "<g id=\"edge49\" class=\"edge\">\n",
       "<title>39&#45;&gt;49</title>\n",
       "<path fill=\"none\" stroke=\"black\" d=\"M1481.8,-608.88C1488.45,-597.78 1495.87,-585.37 1502.56,-574.18\"/>\n",
       "<polygon fill=\"black\" stroke=\"black\" points=\"1505.61,-575.9 1507.74,-565.52 1499.6,-572.31 1505.61,-575.9\"/>\n",
       "</g>\n",
       "<!-- 41 -->\n",
       "<g id=\"node42\" class=\"node\">\n",
       "<title>41</title>\n",
       "<path fill=\"#f2c09c\" stroke=\"black\" d=\"M1447,-469C1447,-469 1337,-469 1337,-469 1331,-469 1325,-463 1325,-457 1325,-457 1325,-413 1325,-413 1325,-407 1331,-401 1337,-401 1337,-401 1447,-401 1447,-401 1453,-401 1459,-407 1459,-413 1459,-413 1459,-457 1459,-457 1459,-463 1453,-469 1447,-469\"/>\n",
       "<text text-anchor=\"start\" x=\"1333\" y=\"-453.8\" font-family=\"Helvetica,sans-Serif\" font-size=\"14.00\">horsepower ≤ 111.0</text>\n",
       "<text text-anchor=\"start\" x=\"1356.5\" y=\"-438.8\" font-family=\"Helvetica,sans-Serif\" font-size=\"14.00\">gini = 0.444</text>\n",
       "<text text-anchor=\"start\" x=\"1354.5\" y=\"-423.8\" font-family=\"Helvetica,sans-Serif\" font-size=\"14.00\">samples = 3</text>\n",
       "<text text-anchor=\"start\" x=\"1352.5\" y=\"-408.8\" font-family=\"Helvetica,sans-Serif\" font-size=\"14.00\">value = [2, 1]</text>\n",
       "</g>\n",
       "<!-- 40&#45;&gt;41 -->\n",
       "<g id=\"edge41\" class=\"edge\">\n",
       "<title>40&#45;&gt;41</title>\n",
       "<path fill=\"none\" stroke=\"black\" d=\"M1398.08,-504.88C1397.36,-496.78 1396.59,-487.98 1395.84,-479.47\"/>\n",
       "<polygon fill=\"black\" stroke=\"black\" points=\"1399.3,-478.95 1394.94,-469.3 1392.33,-479.57 1399.3,-478.95\"/>\n",
       "</g>\n",
       "<!-- 44 -->\n",
       "<g id=\"node45\" class=\"node\">\n",
       "<title>44</title>\n",
       "<path fill=\"#e5823b\" stroke=\"black\" d=\"M1593,-469C1593,-469 1489,-469 1489,-469 1483,-469 1477,-463 1477,-457 1477,-457 1477,-413 1477,-413 1477,-407 1483,-401 1489,-401 1489,-401 1593,-401 1593,-401 1599,-401 1605,-407 1605,-413 1605,-413 1605,-457 1605,-457 1605,-463 1599,-469 1593,-469\"/>\n",
       "<text text-anchor=\"start\" x=\"1485\" y=\"-453.8\" font-family=\"Helvetica,sans-Serif\" font-size=\"14.00\">horsepower ≤ 83.0</text>\n",
       "<text text-anchor=\"start\" x=\"1505.5\" y=\"-438.8\" font-family=\"Helvetica,sans-Serif\" font-size=\"14.00\">gini = 0.016</text>\n",
       "<text text-anchor=\"start\" x=\"1496\" y=\"-423.8\" font-family=\"Helvetica,sans-Serif\" font-size=\"14.00\">samples = 125</text>\n",
       "<text text-anchor=\"start\" x=\"1494\" y=\"-408.8\" font-family=\"Helvetica,sans-Serif\" font-size=\"14.00\">value = [124, 1]</text>\n",
       "</g>\n",
       "<!-- 40&#45;&gt;44 -->\n",
       "<g id=\"edge44\" class=\"edge\">\n",
       "<title>40&#45;&gt;44</title>\n",
       "<path fill=\"none\" stroke=\"black\" d=\"M1446.45,-504.88C1459.41,-495.44 1473.66,-485.06 1487.07,-475.29\"/>\n",
       "<polygon fill=\"black\" stroke=\"black\" points=\"1489.27,-478.02 1495.29,-469.3 1485.15,-472.36 1489.27,-478.02\"/>\n",
       "</g>\n",
       "<!-- 42 -->\n",
       "<g id=\"node43\" class=\"node\">\n",
       "<title>42</title>\n",
       "<path fill=\"#e58139\" stroke=\"black\" d=\"M1333.5,-357.5C1333.5,-357.5 1262.5,-357.5 1262.5,-357.5 1256.5,-357.5 1250.5,-351.5 1250.5,-345.5 1250.5,-345.5 1250.5,-316.5 1250.5,-316.5 1250.5,-310.5 1256.5,-304.5 1262.5,-304.5 1262.5,-304.5 1333.5,-304.5 1333.5,-304.5 1339.5,-304.5 1345.5,-310.5 1345.5,-316.5 1345.5,-316.5 1345.5,-345.5 1345.5,-345.5 1345.5,-351.5 1339.5,-357.5 1333.5,-357.5\"/>\n",
       "<text text-anchor=\"start\" x=\"1270\" y=\"-342.3\" font-family=\"Helvetica,sans-Serif\" font-size=\"14.00\">gini = 0.0</text>\n",
       "<text text-anchor=\"start\" x=\"1260.5\" y=\"-327.3\" font-family=\"Helvetica,sans-Serif\" font-size=\"14.00\">samples = 2</text>\n",
       "<text text-anchor=\"start\" x=\"1258.5\" y=\"-312.3\" font-family=\"Helvetica,sans-Serif\" font-size=\"14.00\">value = [2, 0]</text>\n",
       "</g>\n",
       "<!-- 41&#45;&gt;42 -->\n",
       "<g id=\"edge42\" class=\"edge\">\n",
       "<title>41&#45;&gt;42</title>\n",
       "<path fill=\"none\" stroke=\"black\" d=\"M1361.48,-400.88C1350.94,-389.45 1339.13,-376.63 1328.59,-365.19\"/>\n",
       "<polygon fill=\"black\" stroke=\"black\" points=\"1330.87,-362.5 1321.52,-357.52 1325.72,-367.25 1330.87,-362.5\"/>\n",
       "</g>\n",
       "<!-- 43 -->\n",
       "<g id=\"node44\" class=\"node\">\n",
       "<title>43</title>\n",
       "<path fill=\"#399de5\" stroke=\"black\" d=\"M1446.5,-357.5C1446.5,-357.5 1375.5,-357.5 1375.5,-357.5 1369.5,-357.5 1363.5,-351.5 1363.5,-345.5 1363.5,-345.5 1363.5,-316.5 1363.5,-316.5 1363.5,-310.5 1369.5,-304.5 1375.5,-304.5 1375.5,-304.5 1446.5,-304.5 1446.5,-304.5 1452.5,-304.5 1458.5,-310.5 1458.5,-316.5 1458.5,-316.5 1458.5,-345.5 1458.5,-345.5 1458.5,-351.5 1452.5,-357.5 1446.5,-357.5\"/>\n",
       "<text text-anchor=\"start\" x=\"1383\" y=\"-342.3\" font-family=\"Helvetica,sans-Serif\" font-size=\"14.00\">gini = 0.0</text>\n",
       "<text text-anchor=\"start\" x=\"1373.5\" y=\"-327.3\" font-family=\"Helvetica,sans-Serif\" font-size=\"14.00\">samples = 1</text>\n",
       "<text text-anchor=\"start\" x=\"1371.5\" y=\"-312.3\" font-family=\"Helvetica,sans-Serif\" font-size=\"14.00\">value = [0, 1]</text>\n",
       "</g>\n",
       "<!-- 41&#45;&gt;43 -->\n",
       "<g id=\"edge43\" class=\"edge\">\n",
       "<title>41&#45;&gt;43</title>\n",
       "<path fill=\"none\" stroke=\"black\" d=\"M1398.17,-400.88C1400.16,-390.22 1402.37,-378.35 1404.38,-367.52\"/>\n",
       "<polygon fill=\"black\" stroke=\"black\" points=\"1407.86,-367.99 1406.25,-357.52 1400.97,-366.71 1407.86,-367.99\"/>\n",
       "</g>\n",
       "<!-- 45 -->\n",
       "<g id=\"node46\" class=\"node\">\n",
       "<title>45</title>\n",
       "<path fill=\"#eeab7b\" stroke=\"black\" d=\"M1593,-365C1593,-365 1489,-365 1489,-365 1483,-365 1477,-359 1477,-353 1477,-353 1477,-309 1477,-309 1477,-303 1483,-297 1489,-297 1489,-297 1593,-297 1593,-297 1599,-297 1605,-303 1605,-309 1605,-309 1605,-353 1605,-353 1605,-359 1599,-365 1593,-365\"/>\n",
       "<text text-anchor=\"start\" x=\"1485\" y=\"-349.8\" font-family=\"Helvetica,sans-Serif\" font-size=\"14.00\">horsepower ≤ 79.5</text>\n",
       "<text text-anchor=\"start\" x=\"1505.5\" y=\"-334.8\" font-family=\"Helvetica,sans-Serif\" font-size=\"14.00\">gini = 0.375</text>\n",
       "<text text-anchor=\"start\" x=\"1503.5\" y=\"-319.8\" font-family=\"Helvetica,sans-Serif\" font-size=\"14.00\">samples = 4</text>\n",
       "<text text-anchor=\"start\" x=\"1501.5\" y=\"-304.8\" font-family=\"Helvetica,sans-Serif\" font-size=\"14.00\">value = [3, 1]</text>\n",
       "</g>\n",
       "<!-- 44&#45;&gt;45 -->\n",
       "<g id=\"edge45\" class=\"edge\">\n",
       "<title>44&#45;&gt;45</title>\n",
       "<path fill=\"none\" stroke=\"black\" d=\"M1541,-400.88C1541,-392.78 1541,-383.98 1541,-375.47\"/>\n",
       "<polygon fill=\"black\" stroke=\"black\" points=\"1544.5,-375.3 1541,-365.3 1537.5,-375.3 1544.5,-375.3\"/>\n",
       "</g>\n",
       "<!-- 48 -->\n",
       "<g id=\"node49\" class=\"node\">\n",
       "<title>48</title>\n",
       "<path fill=\"#e58139\" stroke=\"black\" d=\"M1721,-357.5C1721,-357.5 1635,-357.5 1635,-357.5 1629,-357.5 1623,-351.5 1623,-345.5 1623,-345.5 1623,-316.5 1623,-316.5 1623,-310.5 1629,-304.5 1635,-304.5 1635,-304.5 1721,-304.5 1721,-304.5 1727,-304.5 1733,-310.5 1733,-316.5 1733,-316.5 1733,-345.5 1733,-345.5 1733,-351.5 1727,-357.5 1721,-357.5\"/>\n",
       "<text text-anchor=\"start\" x=\"1650\" y=\"-342.3\" font-family=\"Helvetica,sans-Serif\" font-size=\"14.00\">gini = 0.0</text>\n",
       "<text text-anchor=\"start\" x=\"1633\" y=\"-327.3\" font-family=\"Helvetica,sans-Serif\" font-size=\"14.00\">samples = 121</text>\n",
       "<text text-anchor=\"start\" x=\"1631\" y=\"-312.3\" font-family=\"Helvetica,sans-Serif\" font-size=\"14.00\">value = [121, 0]</text>\n",
       "</g>\n",
       "<!-- 44&#45;&gt;48 -->\n",
       "<g id=\"edge48\" class=\"edge\">\n",
       "<title>44&#45;&gt;48</title>\n",
       "<path fill=\"none\" stroke=\"black\" d=\"M1585.48,-400.88C1601.58,-388.9 1619.71,-375.4 1635.62,-363.55\"/>\n",
       "<polygon fill=\"black\" stroke=\"black\" points=\"1637.79,-366.3 1643.72,-357.52 1633.61,-360.68 1637.79,-366.3\"/>\n",
       "</g>\n",
       "<!-- 46 -->\n",
       "<g id=\"node47\" class=\"node\">\n",
       "<title>46</title>\n",
       "<path fill=\"#e58139\" stroke=\"black\" d=\"M1519.5,-253.5C1519.5,-253.5 1448.5,-253.5 1448.5,-253.5 1442.5,-253.5 1436.5,-247.5 1436.5,-241.5 1436.5,-241.5 1436.5,-212.5 1436.5,-212.5 1436.5,-206.5 1442.5,-200.5 1448.5,-200.5 1448.5,-200.5 1519.5,-200.5 1519.5,-200.5 1525.5,-200.5 1531.5,-206.5 1531.5,-212.5 1531.5,-212.5 1531.5,-241.5 1531.5,-241.5 1531.5,-247.5 1525.5,-253.5 1519.5,-253.5\"/>\n",
       "<text text-anchor=\"start\" x=\"1456\" y=\"-238.3\" font-family=\"Helvetica,sans-Serif\" font-size=\"14.00\">gini = 0.0</text>\n",
       "<text text-anchor=\"start\" x=\"1446.5\" y=\"-223.3\" font-family=\"Helvetica,sans-Serif\" font-size=\"14.00\">samples = 3</text>\n",
       "<text text-anchor=\"start\" x=\"1444.5\" y=\"-208.3\" font-family=\"Helvetica,sans-Serif\" font-size=\"14.00\">value = [3, 0]</text>\n",
       "</g>\n",
       "<!-- 45&#45;&gt;46 -->\n",
       "<g id=\"edge46\" class=\"edge\">\n",
       "<title>45&#45;&gt;46</title>\n",
       "<path fill=\"none\" stroke=\"black\" d=\"M1522.49,-296.88C1516.35,-285.89 1509.49,-273.62 1503.29,-262.52\"/>\n",
       "<polygon fill=\"black\" stroke=\"black\" points=\"1506.19,-260.54 1498.26,-253.52 1500.08,-263.96 1506.19,-260.54\"/>\n",
       "</g>\n",
       "<!-- 47 -->\n",
       "<g id=\"node48\" class=\"node\">\n",
       "<title>47</title>\n",
       "<path fill=\"#399de5\" stroke=\"black\" d=\"M1632.5,-253.5C1632.5,-253.5 1561.5,-253.5 1561.5,-253.5 1555.5,-253.5 1549.5,-247.5 1549.5,-241.5 1549.5,-241.5 1549.5,-212.5 1549.5,-212.5 1549.5,-206.5 1555.5,-200.5 1561.5,-200.5 1561.5,-200.5 1632.5,-200.5 1632.5,-200.5 1638.5,-200.5 1644.5,-206.5 1644.5,-212.5 1644.5,-212.5 1644.5,-241.5 1644.5,-241.5 1644.5,-247.5 1638.5,-253.5 1632.5,-253.5\"/>\n",
       "<text text-anchor=\"start\" x=\"1569\" y=\"-238.3\" font-family=\"Helvetica,sans-Serif\" font-size=\"14.00\">gini = 0.0</text>\n",
       "<text text-anchor=\"start\" x=\"1559.5\" y=\"-223.3\" font-family=\"Helvetica,sans-Serif\" font-size=\"14.00\">samples = 1</text>\n",
       "<text text-anchor=\"start\" x=\"1557.5\" y=\"-208.3\" font-family=\"Helvetica,sans-Serif\" font-size=\"14.00\">value = [0, 1]</text>\n",
       "</g>\n",
       "<!-- 45&#45;&gt;47 -->\n",
       "<g id=\"edge47\" class=\"edge\">\n",
       "<title>45&#45;&gt;47</title>\n",
       "<path fill=\"none\" stroke=\"black\" d=\"M1559.18,-296.88C1565.22,-285.89 1571.96,-273.62 1578.05,-262.52\"/>\n",
       "<polygon fill=\"black\" stroke=\"black\" points=\"1581.24,-263.97 1582.99,-253.52 1575.11,-260.6 1581.24,-263.97\"/>\n",
       "</g>\n",
       "<!-- 51 -->\n",
       "<g id=\"node52\" class=\"node\">\n",
       "<title>51</title>\n",
       "<path fill=\"#f6d5bd\" stroke=\"black\" d=\"M1732,-573C1732,-573 1610,-573 1610,-573 1604,-573 1598,-567 1598,-561 1598,-561 1598,-517 1598,-517 1598,-511 1604,-505 1610,-505 1610,-505 1732,-505 1732,-505 1738,-505 1744,-511 1744,-517 1744,-517 1744,-561 1744,-561 1744,-567 1738,-573 1732,-573\"/>\n",
       "<text text-anchor=\"start\" x=\"1606\" y=\"-557.8\" font-family=\"Helvetica,sans-Serif\" font-size=\"14.00\">displacement ≤ 247.0</text>\n",
       "<text text-anchor=\"start\" x=\"1639\" y=\"-542.8\" font-family=\"Helvetica,sans-Serif\" font-size=\"14.00\">gini = 0.48</text>\n",
       "<text text-anchor=\"start\" x=\"1633.5\" y=\"-527.8\" font-family=\"Helvetica,sans-Serif\" font-size=\"14.00\">samples = 5</text>\n",
       "<text text-anchor=\"start\" x=\"1631.5\" y=\"-512.8\" font-family=\"Helvetica,sans-Serif\" font-size=\"14.00\">value = [3, 2]</text>\n",
       "</g>\n",
       "<!-- 50&#45;&gt;51 -->\n",
       "<g id=\"edge51\" class=\"edge\">\n",
       "<title>50&#45;&gt;51</title>\n",
       "<path fill=\"none\" stroke=\"black\" d=\"M1671,-608.88C1671,-600.78 1671,-591.98 1671,-583.47\"/>\n",
       "<polygon fill=\"black\" stroke=\"black\" points=\"1674.5,-583.3 1671,-573.3 1667.5,-583.3 1674.5,-583.3\"/>\n",
       "</g>\n",
       "<!-- 54 -->\n",
       "<g id=\"node55\" class=\"node\">\n",
       "<title>54</title>\n",
       "<path fill=\"#399de5\" stroke=\"black\" d=\"M1845.5,-565.5C1845.5,-565.5 1774.5,-565.5 1774.5,-565.5 1768.5,-565.5 1762.5,-559.5 1762.5,-553.5 1762.5,-553.5 1762.5,-524.5 1762.5,-524.5 1762.5,-518.5 1768.5,-512.5 1774.5,-512.5 1774.5,-512.5 1845.5,-512.5 1845.5,-512.5 1851.5,-512.5 1857.5,-518.5 1857.5,-524.5 1857.5,-524.5 1857.5,-553.5 1857.5,-553.5 1857.5,-559.5 1851.5,-565.5 1845.5,-565.5\"/>\n",
       "<text text-anchor=\"start\" x=\"1782\" y=\"-550.3\" font-family=\"Helvetica,sans-Serif\" font-size=\"14.00\">gini = 0.0</text>\n",
       "<text text-anchor=\"start\" x=\"1772.5\" y=\"-535.3\" font-family=\"Helvetica,sans-Serif\" font-size=\"14.00\">samples = 4</text>\n",
       "<text text-anchor=\"start\" x=\"1770.5\" y=\"-520.3\" font-family=\"Helvetica,sans-Serif\" font-size=\"14.00\">value = [0, 4]</text>\n",
       "</g>\n",
       "<!-- 50&#45;&gt;54 -->\n",
       "<g id=\"edge54\" class=\"edge\">\n",
       "<title>50&#45;&gt;54</title>\n",
       "<path fill=\"none\" stroke=\"black\" d=\"M1716.13,-608.88C1732.47,-596.9 1750.86,-583.4 1767.01,-571.55\"/>\n",
       "<polygon fill=\"black\" stroke=\"black\" points=\"1769.23,-574.26 1775.22,-565.52 1765.09,-568.61 1769.23,-574.26\"/>\n",
       "</g>\n",
       "<!-- 52 -->\n",
       "<g id=\"node53\" class=\"node\">\n",
       "<title>52</title>\n",
       "<path fill=\"#e58139\" stroke=\"black\" d=\"M1706.5,-461.5C1706.5,-461.5 1635.5,-461.5 1635.5,-461.5 1629.5,-461.5 1623.5,-455.5 1623.5,-449.5 1623.5,-449.5 1623.5,-420.5 1623.5,-420.5 1623.5,-414.5 1629.5,-408.5 1635.5,-408.5 1635.5,-408.5 1706.5,-408.5 1706.5,-408.5 1712.5,-408.5 1718.5,-414.5 1718.5,-420.5 1718.5,-420.5 1718.5,-449.5 1718.5,-449.5 1718.5,-455.5 1712.5,-461.5 1706.5,-461.5\"/>\n",
       "<text text-anchor=\"start\" x=\"1643\" y=\"-446.3\" font-family=\"Helvetica,sans-Serif\" font-size=\"14.00\">gini = 0.0</text>\n",
       "<text text-anchor=\"start\" x=\"1633.5\" y=\"-431.3\" font-family=\"Helvetica,sans-Serif\" font-size=\"14.00\">samples = 3</text>\n",
       "<text text-anchor=\"start\" x=\"1631.5\" y=\"-416.3\" font-family=\"Helvetica,sans-Serif\" font-size=\"14.00\">value = [3, 0]</text>\n",
       "</g>\n",
       "<!-- 51&#45;&gt;52 -->\n",
       "<g id=\"edge52\" class=\"edge\">\n",
       "<title>51&#45;&gt;52</title>\n",
       "<path fill=\"none\" stroke=\"black\" d=\"M1671,-504.88C1671,-494.33 1671,-482.6 1671,-471.85\"/>\n",
       "<polygon fill=\"black\" stroke=\"black\" points=\"1674.5,-471.52 1671,-461.52 1667.5,-471.52 1674.5,-471.52\"/>\n",
       "</g>\n",
       "<!-- 53 -->\n",
       "<g id=\"node54\" class=\"node\">\n",
       "<title>53</title>\n",
       "<path fill=\"#399de5\" stroke=\"black\" d=\"M1819.5,-461.5C1819.5,-461.5 1748.5,-461.5 1748.5,-461.5 1742.5,-461.5 1736.5,-455.5 1736.5,-449.5 1736.5,-449.5 1736.5,-420.5 1736.5,-420.5 1736.5,-414.5 1742.5,-408.5 1748.5,-408.5 1748.5,-408.5 1819.5,-408.5 1819.5,-408.5 1825.5,-408.5 1831.5,-414.5 1831.5,-420.5 1831.5,-420.5 1831.5,-449.5 1831.5,-449.5 1831.5,-455.5 1825.5,-461.5 1819.5,-461.5\"/>\n",
       "<text text-anchor=\"start\" x=\"1756\" y=\"-446.3\" font-family=\"Helvetica,sans-Serif\" font-size=\"14.00\">gini = 0.0</text>\n",
       "<text text-anchor=\"start\" x=\"1746.5\" y=\"-431.3\" font-family=\"Helvetica,sans-Serif\" font-size=\"14.00\">samples = 2</text>\n",
       "<text text-anchor=\"start\" x=\"1744.5\" y=\"-416.3\" font-family=\"Helvetica,sans-Serif\" font-size=\"14.00\">value = [0, 2]</text>\n",
       "</g>\n",
       "<!-- 51&#45;&gt;53 -->\n",
       "<g id=\"edge53\" class=\"edge\">\n",
       "<title>51&#45;&gt;53</title>\n",
       "<path fill=\"none\" stroke=\"black\" d=\"M1707.69,-504.88C1720.6,-493.23 1735.1,-480.14 1747.96,-468.53\"/>\n",
       "<polygon fill=\"black\" stroke=\"black\" points=\"1750.65,-470.82 1755.73,-461.52 1745.96,-465.62 1750.65,-470.82\"/>\n",
       "</g>\n",
       "</g>\n",
       "</svg>\n"
      ],
      "text/plain": [
       "<graphviz.sources.Source at 0x1665e95bac0>"
      ]
     },
     "execution_count": 37,
     "metadata": {},
     "output_type": "execute_result"
    }
   ],
   "source": [
    "import graphviz\n",
    "import sklearn\n",
    "\n",
    "dot_data = sklearn.tree.export_graphviz(clf, feature_names=X.columns,    \n",
    "                  filled=True, rounded=True,  \n",
    "                  special_characters=True,\n",
    "                   out_file=None,)\n",
    "graph = graphviz.Source(dot_data)\n",
    "graph"
   ]
  },
  {
   "cell_type": "markdown",
   "id": "a2784523",
   "metadata": {},
   "source": [
    "##### Neural Network"
   ]
  },
  {
   "cell_type": "code",
   "execution_count": 38,
   "id": "6390668b",
   "metadata": {},
   "outputs": [],
   "source": [
    "from sklearn import preprocessing\n",
    "\n",
    "scaler = preprocessing.StandardScaler().fit(X_train)\n",
    "X_train_scaled = scaler.transform(X_train)\n",
    "X_test_scaled = scaler.transform(X_test)"
   ]
  },
  {
   "cell_type": "code",
   "execution_count": 39,
   "id": "e424835c",
   "metadata": {},
   "outputs": [],
   "source": [
    "from sklearn.neural_network import MLPClassifier\n",
    "\n",
    "clf = MLPClassifier(solver='lbfgs',hidden_layer_sizes=(3,), max_iter=1500, random_state = 1234)\n",
    "clf.fit(X_train_scaled,Y_train)\n",
    "pred = clf.predict(X_test_scaled)"
   ]
  },
  {
   "cell_type": "code",
   "execution_count": 40,
   "id": "4538bbb8",
   "metadata": {},
   "outputs": [
    {
     "name": "stdout",
     "output_type": "stream",
     "text": [
      "accuracy =  0.8846153846153846\n"
     ]
    },
    {
     "data": {
      "text/plain": [
       "array([[43,  7],\n",
       "       [ 2, 26]], dtype=int64)"
      ]
     },
     "execution_count": 40,
     "metadata": {},
     "output_type": "execute_result"
    }
   ],
   "source": [
    "print('accuracy = ', accuracy_score(Y_test,pred))\n",
    "confusion_matrix(Y_test, pred)"
   ]
  },
  {
   "cell_type": "code",
   "execution_count": 41,
   "id": "c1ca1c00",
   "metadata": {},
   "outputs": [
    {
     "name": "stdout",
     "output_type": "stream",
     "text": [
      "              precision    recall  f1-score   support\n",
      "\n",
      "         0.0       0.96      0.86      0.91        50\n",
      "         1.0       0.79      0.93      0.85        28\n",
      "\n",
      "    accuracy                           0.88        78\n",
      "   macro avg       0.87      0.89      0.88        78\n",
      "weighted avg       0.90      0.88      0.89        78\n",
      "\n"
     ]
    }
   ],
   "source": [
    "from sklearn.metrics import classification_report\n",
    "print(classification_report(Y_test,pred))"
   ]
  },
  {
   "cell_type": "markdown",
   "id": "3b20e5c3",
   "metadata": {},
   "source": [
    "###### Using different settings"
   ]
  },
  {
   "cell_type": "code",
   "execution_count": 42,
   "id": "3f89e6fc",
   "metadata": {},
   "outputs": [],
   "source": [
    "clf = MLPClassifier(solver='sgd',hidden_layer_sizes=(3,), max_iter=1500, random_state = 1234)\n",
    "clf.fit(X_train_scaled,Y_train)\n",
    "pred = clf.predict(X_test_scaled)"
   ]
  },
  {
   "cell_type": "code",
   "execution_count": 43,
   "id": "17148797",
   "metadata": {},
   "outputs": [
    {
     "name": "stdout",
     "output_type": "stream",
     "text": [
      "accuracy =  0.8333333333333334\n"
     ]
    },
    {
     "data": {
      "text/plain": [
       "array([[40, 10],\n",
       "       [ 3, 25]], dtype=int64)"
      ]
     },
     "execution_count": 43,
     "metadata": {},
     "output_type": "execute_result"
    }
   ],
   "source": [
    "print('accuracy = ', accuracy_score(Y_test,pred))\n",
    "confusion_matrix(Y_test, pred)"
   ]
  },
  {
   "cell_type": "code",
   "execution_count": 44,
   "id": "aa4236a1",
   "metadata": {},
   "outputs": [
    {
     "name": "stdout",
     "output_type": "stream",
     "text": [
      "              precision    recall  f1-score   support\n",
      "\n",
      "         0.0       0.93      0.80      0.86        50\n",
      "         1.0       0.71      0.89      0.79        28\n",
      "\n",
      "    accuracy                           0.83        78\n",
      "   macro avg       0.82      0.85      0.83        78\n",
      "weighted avg       0.85      0.83      0.84        78\n",
      "\n"
     ]
    }
   ],
   "source": [
    "print(classification_report(Y_test,pred))"
   ]
  },
  {
   "cell_type": "markdown",
   "id": "34476259",
   "metadata": {},
   "source": [
    "Comparing two models, using 'sgd' or Stochastic gradient descent got slightly less accuracy then using solver lbfgs. This might be because of less data sets because SGD computes, gradients using small subsets of the training data. Since, the training data is less. So, an accuracy using SGD was less. \n",
    "For 'lbfgs' or Limited memory BFGS uses the solutions and gradients from the itterations and calculate Hessian matrix. It also requires few hyperparameters to tune. It was better with small data sets."
   ]
  },
  {
   "cell_type": "markdown",
   "id": "823d37ab",
   "metadata": {},
   "source": [
    "##### Analysis"
   ]
  },
  {
   "cell_type": "markdown",
   "id": "11cc142e",
   "metadata": {},
   "source": [
    "Which algorithm performed better?\n",
    "Decision tree was found to be performing better based on precision and accuracy."
   ]
  },
  {
   "cell_type": "markdown",
   "id": "a65ca595",
   "metadata": {},
   "source": [
    "Compare accuracy, recall and precision metrics by class.\n",
    "Precision is a ratio of true postives to the sum of true and false positives.\n",
    "Recall is the ratio of true positives to the sum of true postives and false negatives. \n",
    "Accuracy determines whether it predicted correct result or not based on test value.\n",
    "\n",
    "In logistic regression, \n",
    "Precison:Out of all the auto that the model predicted 73% was above the average. \n",
    "And, recall: for above average is 96% that means the model predicted the outcome correctly for those auto.\n",
    "F1:Value is close to 1, so it does a good job of predicting. With accuracy of 86%.\n",
    "Similarly, In decision tree,\n",
    "Precision was found to be 0.85 for one who has mpg above average. This measns out of all the auto that the model predicted it was 85% above the average mpg.\n",
    "Recall was found to be 0.82, this is a ratio of true positives to the sum of true positives and false negatives. Meaning, 82% was found to be correct predicted for above the average.\n",
    "Accuracy was found to be 86%. This means the model predicted 86%.\n",
    "\n",
    "In neutral network using lbfgs, accuracy was found to be 88% with precison of 79% for mpg above average. Recall for it was found to be 93% for 1's.\n",
    "\n",
    "For sgd, accuracy was 83% with precision of 71% for 1's. Recall was 89% meaning it's ability to detect positive samples."
   ]
  },
  {
   "cell_type": "markdown",
   "id": "815eb4c3",
   "metadata": {},
   "source": [
    "Better performing algorithm might have outperfomed the other because of the nature of the datasets. Since, the decision tree works for large dimensional data. The data may not be overfitting and decision boundaries may not be restricted to parallel to attribute."
   ]
  },
  {
   "cell_type": "markdown",
   "id": "cb4d49fb",
   "metadata": {},
   "source": [
    "R versus Sklearn.\n",
    "\n",
    "I found using Sklearn easier than R. This might be because I was quite familiar with python too. But the major part was in a documentation. The documentation of sklearn was so clear and descriptive than R. But it is slightly less comprehensive than of R. Also, sklearn was found to be more understantable as compared to R. "
   ]
  }
 ],
 "metadata": {
  "kernelspec": {
   "display_name": "Python 3 (ipykernel)",
   "language": "python",
   "name": "python3"
  },
  "language_info": {
   "codemirror_mode": {
    "name": "ipython",
    "version": 3
   },
   "file_extension": ".py",
   "mimetype": "text/x-python",
   "name": "python",
   "nbconvert_exporter": "python",
   "pygments_lexer": "ipython3",
   "version": "3.9.13"
  }
 },
 "nbformat": 4,
 "nbformat_minor": 5
}
